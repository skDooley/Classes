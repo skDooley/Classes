{
 "cells": [
  {
   "cell_type": "markdown",
   "metadata": {},
   "source": [
    "<h1><a id='outline'>Project Outline</a></h1>\n",
    "\n",
    "* [Data Pre-Processing](#dpp)\n",
    "  *  [Required Libraries](#libs)\n",
    "  *  [Separate Data](#sep)\n",
    "  *  [General Data Overview](#gdo)\n",
    "* [Question 1](#rq1d)\n",
    "  *  [Read in Q1 Data](#rq1d)\n",
    "  *  [Quality Score Distribution](#sep)\n",
    "  *  [Separate Data](#sep)\n",
    "  *  [Question 1a](#q1a)\n",
    "  *  [Question 1b Code](#q1bc)\n",
    "  *  [Question 1b Answer](#q1ba)\n",
    "  *  [Question 1c Code](#q1cc)\n",
    "  *  [Question 1c Answer](#q1ca)\n",
    "  *  [Question 1d](#q1d)\n",
    "  *  [Question 1e](#q1e)\n",
    "* [Question 2](#q2cc)\n",
    "  * [Question 2 Code](#q2cc)\n",
    "  * [Question 2 Answer](#q2ab)\n",
    "  * [Question 2c](#q2c)\n",
    "* [Question 3](#q3)\n",
    "    * [Something is wrong here](#error)"
   ]
  },
  {
   "cell_type": "markdown",
   "metadata": {},
   "source": [
    "<h2><a id=\"dpp\">Data prep and cursory analysis</a></h2>"
   ]
  },
  {
   "cell_type": "markdown",
   "metadata": {},
   "source": [
    "<h4><a id=\"libs\">Python Libraries and Jupyter Magic</a></h4>"
   ]
  },
  {
   "cell_type": "code",
   "execution_count": 1,
   "metadata": {},
   "outputs": [],
   "source": [
    "%matplotlib inline\n",
    "%load_ext rpy2.ipython\n",
    "from pandas import Series\n",
    "from collections import Counter\n",
    "from rpy2.robjects.packages import STAP\n",
    "from rpy2.robjects.vectors import FloatVector as rArray\n",
    "from Locus import *\n",
    "from os import chdir\n",
    "import rpy2.rinterface\n",
    "import pickle\n",
    "chdir(\"/mnt/research/germs/shane/Classes/BCB_2_ComputationalStats/HW1\")"
   ]
  },
  {
   "cell_type": "markdown",
   "metadata": {},
   "source": [
    "#### Separate Data\n",
    "<a id=\"sep\"></a>\n",
    "##### Divide the data by individual and position because github wont allow large files and this will allow us to only load small amounts of data into memory at a time"
   ]
  },
  {
   "cell_type": "code",
   "execution_count": 2,
   "metadata": {},
   "outputs": [],
   "source": [
    "%%bash\n",
    "cd data/\n",
    "for individual in {0..2}; do \n",
    "    for pos in {764..1199}; do\n",
    "        awk -v individual=\"$individual\" -v pos=\"$pos\" '($1==individual && $3==pos && $4!=\"NA\") {print $0}' genotyping.txt > Individual$individual\\_position$pos.txt\n",
    "    done"
   ]
  },
  {
   "cell_type": "markdown",
   "metadata": {},
   "source": [
    "#### General Data Overview \n",
    "<a id=\"gdo\"></a>\n",
    "<ol style=\"display: inline; padding: 0;margin-top: -10px;\"> <p style=\"display: inline; padding: 0;margin-top: -10px;\"><u>Genotyping.txt Column Designations:</u></p>\n",
    "    <li>Id of individual</li>\n",
    "    <li>Id of read</li>\n",
    "    <li>Reference position</li>\n",
    "    <li>Read base call</li>\n",
    "    <li>Read quality score</li>\n",
    "</ol>"
   ]
  },
  {
   "cell_type": "code",
   "execution_count": 4,
   "metadata": {},
   "outputs": [
    {
     "name": "stdout",
     "output_type": "stream",
     "text": [
      "0 0 962 A p\n",
      "0 1 962 A h\n",
      "0 2 962 A i\n",
      "0 3 962 A l\n",
      "0 4 962 G X\n",
      "0 5 962 G p\n",
      "0 6 962 G p\n",
      "0 7 962 A p\n",
      "0 8 962 A p\n",
      "0 9 962 G r\n"
     ]
    }
   ],
   "source": [
    "%%bash \n",
    "head data/Individual0_position962.txt"
   ]
  },
  {
   "cell_type": "markdown",
   "metadata": {},
   "source": [
    "[Project Outline](#outline)\n",
    "### Question 1\n",
    "##### Read in Q1 Data\n",
    "<a id=\"rq1d\"></a>"
   ]
  },
  {
   "cell_type": "code",
   "execution_count": 2,
   "metadata": {},
   "outputs": [],
   "source": [
    "class SeqRead:\n",
    "    def __init__(self,data):\n",
    "        rec = data.strip().split()\n",
    "        self.q = ord(rec[4]) - 33\n",
    "        self.errorProb = 10.0**((-self.q)/10.0)\n",
    "        self.call = rec[3]\n",
    "        self.matchesRef = False\n",
    "        \n",
    "pos962,pos964 = [],[]\n",
    "for line in open(\"data/Individual0_position962.txt\"): pos962.append(SeqRead(line))\n",
    "for line in open(\"data/Individual0_position964.txt\"): pos964.append(SeqRead(line))\n",
    "positions = [pos962,pos964]\n",
    "data, all_qs, all_errors, all_calls = [],[],[],[]\n",
    "for pos in positions:\n",
    "    calls, errorProbs, qscores = [],[],[]\n",
    "    for read in pos:\n",
    "        qscores.append(read.q)\n",
    "        errorProbs.append(read.errorProb)\n",
    "        calls.append(int(read.call=='A'))\n",
    "    all_calls.append(calls)   \n",
    "    all_qs.append(qscores) \n",
    "    all_errors.append(errorProbs)\n",
    "    qscores = Series(qscores)\n",
    "    data.append(qscores)"
   ]
  },
  {
   "cell_type": "markdown",
   "metadata": {},
   "source": [
    "##### Describe and plot the distribution of Q scores to see data quality\n",
    "<a id=\"q1qc\"></a>"
   ]
  },
  {
   "cell_type": "code",
   "execution_count": 3,
   "metadata": {},
   "outputs": [
    {
     "name": "stdout",
     "output_type": "stream",
     "text": [
      "Individual 0 Position 962 Quality score Distribution\n",
      " count    8883.000000\n",
      "mean       71.602837\n",
      "std        13.239879\n",
      "min         3.000000\n",
      "25%        71.000000\n",
      "50%        78.000000\n",
      "75%        80.000000\n",
      "max        81.000000\n",
      "dtype: float64\n"
     ]
    },
    {
     "data": {
      "image/png": "[encoded data removed]",
      "text/plain": [
       "<Figure size 432x288 with 1 Axes>"
      ]
     },
     "metadata": {
      "needs_background": "light"
     },
     "output_type": "display_data"
    }
   ],
   "source": [
    "print(\"Individual 0 Position 962 Quality score Distribution\\n\",data[0].describe())\n",
    "data[0].hist().plot();"
   ]
  },
  {
   "cell_type": "code",
   "execution_count": 4,
   "metadata": {},
   "outputs": [
    {
     "name": "stdout",
     "output_type": "stream",
     "text": [
      "Individual 0 Position 964 Quality score Distribution\n",
      " count    8886.000000\n",
      "mean       75.660027\n",
      "std         9.702624\n",
      "min         3.000000\n",
      "25%        77.000000\n",
      "50%        80.000000\n",
      "75%        80.000000\n",
      "max        81.000000\n",
      "dtype: float64\n"
     ]
    },
    {
     "data": {
      "image/png": "[encoded data removed]",
      "text/plain": [
       "<Figure size 432x288 with 1 Axes>"
      ]
     },
     "metadata": {
      "needs_background": "light"
     },
     "output_type": "display_data"
    }
   ],
   "source": [
    "print(\"Individual 0 Position 964 Quality score Distribution\\n\",data[1].describe())\n",
    "data[1].hist().plot();"
   ]
  },
  {
   "cell_type": "markdown",
   "metadata": {},
   "source": [
    "[Project Outline](#outline)\n",
    "<h5><a id='q1a'>Question 1a.</a></h5>\n",
    "\n",
    "![](images/Q1A.png)"
   ]
  },
  {
   "cell_type": "markdown",
   "metadata": {},
   "source": [
    "$L(g|Z_1,Z_2,...,Z_l)$ def $\\stackrel{def}{=}$ $Pr(Z_1=z_1,Z_2=z_2,...,Z_l=z_l|G=g)$ \n",
    "\n",
    "$\\stackrel{CP}{=}$ $\\frac{Pr(Z_1=z_1 \\cap Z_2=z_2 \\cap...\\cap Z_l=z_l\\cap G=g)}{Pr(G=g)}$\n",
    "\n",
    "$\\stackrel{MR}{=}$ $\\frac{1}{Pr(G=g)} * Pr(Z_1=z_1) * Pr(Z_2=z_2|Z_1=z_1) * Pr(Z_3=z_3|Z_1=z_1 \\cap Z_2=z_2) * ... * Pr(Z_l=z_l | Z_1=z_1 \\cap ... \\cap Z_{l-1}=z_{l-1}) * Pr(G=g|Z_1=z_1 \\cap ... \\cap Z_l=z_l)$ \n",
    "\n",
    "Since G is independent of Z_n,\n",
    "\n",
    "$Pr(G = g | Z_1=z_1  \\cap ... \\cap  Z_l=z_l)$ = Pr(G = g)\n",
    "\n",
    "and Pr(G = g) cancels.\n",
    "\n",
    "$\\stackrel{Independance\\: of \\:reads}{=}$ $Pr(Z_1=z_1)Pr(Z_2=z_2)...Pr(Z_l=z_l)$\n",
    "\n",
    "$\\stackrel{WLOG}{=}$ ${\\displaystyle \\prod_{j=1}^{k} Pr(Z_j=1)}$ $\\cdot$ ${\\displaystyle \\prod_{j=k+1}^{l} Pr(Z_j=0)}$\n",
    "\n",
    "where $Z_j= \\mathbb{1}\\{D_j=b_r\\}$ is an indicator function matching the read $b_r$ to the reference allele $D_j$. A read either matches the reference $Z_j = 1$ or it doesn't $Z_j = 0$\n",
    "\n",
    "##### From the class lecture notes we know that Li makes the assumption that the probability of an error in observing a particular call in a read at a specific site is equal to $10^{-(ord(q)-33)/10}$ where q is the quality score of the read from the sequencer, which is recorded in the fastq file. So, the probability of an error $10^{-(ord(q)-33)/10}$ = $e_{ijs}$\n",
    "\n",
    "\n",
    "![](images/Tree.jpeg)\n",
    "\n",
    "Given that we are dealing with a diploid, we have to adjust the probability of an error for the read by the ploidy.\n",
    "\n",
    "Using the picture above we substituted the $Pr(Z_j = 0)$ and $Pr(Z_j = 1)$ with their respective tree combinations of the probility of having a success or failure to come up with the final equation mapping the probability of a genotype at a position given the reads at observed at that position."
   ]
  },
  {
   "cell_type": "code",
   "execution_count": 2,
   "metadata": {},
   "outputs": [
    {
     "name": "stdout",
     "output_type": "stream",
     "text": [
      "/mnt/research/germs/shane/Classes/BCB_2_ComputationalStats/HW1\n",
      "Q1A.png\n",
      "Tree.jpeg\n"
     ]
    }
   ],
   "source": [
    "%%bash\n",
    "pwd\n",
    "ls images"
   ]
  },
  {
   "cell_type": "markdown",
   "metadata": {},
   "source": [
    "[Project Outline](#outline)\n",
    "<h5>Question 1b.</h5>\n",
    "&nbsp; Use the data from three diploids at https://dorman.stat.iastate.edu/files/genotyping.txt to compute the likelihood of the data in individual 0 at sites 962 and 964 assuming the reference base in both cases is $n_{b}$ = A. What are your maximum likelihood estimates $\\hat{G}_{MLE,962}$ and $\\hat{G}_{MLE,964}$ of the genotypes? (These data are unforgivingly huge, so you may want to do selective reading of the data in some smart way.)</p>\n",
    "<br/>\n",
    "<h5><a id='q1bc'>Question 1b Code</a></h5>\n",
    "\n",
    "###### The code below (written by me) is taking the stored R functions in the file Q1_MLE.R (modified from the R code in the class notes) and converting it to python functions which I then call. For your convenience I have displayed the function being used in R magic, though the R magic cell doesn't actually do anything."
   ]
  },
  {
   "cell_type": "code",
   "execution_count": 3,
   "metadata": {},
   "outputs": [],
   "source": [
    "with open('Q1_MLE.R', 'r') as fh: rtext = fh.read()\n",
    "rfuncts = STAP(rtext,\"\")"
   ]
  },
  {
   "cell_type": "code",
   "execution_count": 5,
   "metadata": {},
   "outputs": [],
   "source": [
    "%%R\n",
    "log.likelihood.d.g <- function(genotype, calls, ploidy, errorProbs, coverage){\n",
    "  -coverage*log(ploidy) +\n",
    "  sum(\n",
    "      log(\n",
    "          ifelse(  calls == 1, \n",
    "                   genotype * (1 - errorProbs) + (ploidy - genotype) * errorProbs/3, \n",
    "                   (1 - errorProbs) * (ploidy - genotype) + genotype * errorProbs + (2*errorProbs*(ploidy-genotype))/3 \n",
    "                 )\n",
    "          )\n",
    "      )\n",
    "}"
   ]
  },
  {
   "cell_type": "code",
   "execution_count": 4,
   "metadata": {},
   "outputs": [
    {
     "name": "stdout",
     "output_type": "stream",
     "text": [
      "Finding MLE:\n",
      "-6152.268491224305 1\n",
      "Finding MLE:\n",
      "-6160.344705015218 1\n"
     ]
    }
   ],
   "source": [
    "for pos in range(0,2):\n",
    "    print(\"Finding MLE:\")\n",
    "    calls = all_calls[pos]\n",
    "    errorProbs = all_errors[pos]\n",
    "    maxScore = None\n",
    "    G = None\n",
    "    for g in range(0,3):\n",
    "        L = rfuncts.log_likelihood_d_g(g,rArray(calls),2,rArray(errorProbs),len(calls))[0]\n",
    "        if not maxScore or maxScore < L: \n",
    "            maxScore=L\n",
    "            G=g\n",
    "    print (maxScore,G)"
   ]
  },
  {
   "cell_type": "markdown",
   "metadata": {},
   "source": [
    "<h5>Question 1b Answer</h5>\n",
    "The results above show that $\\hat{G}_{MLE,962}$ = 1, given that the max of the likelihood function is -6152.268. $\\hat{G}_{MLE,964}$ is also equal to 1 with the max of the likelihood function of -6160.3447."
   ]
  },
  {
   "cell_type": "markdown",
   "metadata": {},
   "source": [
    "<h5>Question 1c</h5>\n",
    "Now find the maximum a posterior estimates $\\hat{G}_{MAP,962}$ and $\\hat{G}_{MAP,964}$ and explain any additional assumptions you make.\n",
    "<h5><a id='q1cc'>Question 1c Code</a></h5>"
   ]
  },
  {
   "cell_type": "code",
   "execution_count": 9,
   "metadata": {},
   "outputs": [],
   "source": [
    "%%R\n",
    "log.likelihood.MAP <- function(g, a, m, e, k){\n",
    "  -k*log(m) + log(0.5) +\n",
    "    sum(\n",
    "        log(\n",
    "            ifelse(  a == 1, \n",
    "                     g * (1 - e) + (m - g) * e/3, \n",
    "                     (1 - e) * (m - g) + g * e + (2*e*(m-g))/3\n",
    "                  )\n",
    "        )\n",
    "    )\n",
    "}"
   ]
  },
  {
   "cell_type": "code",
   "execution_count": null,
   "metadata": {},
   "outputs": [],
   "source": [
    "def MatchesRefMLE(df,g,m,k):\n",
    "    \n",
    "    \n",
    "    "
   ]
  },
  {
   "cell_type": "code",
   "execution_count": 6,
   "metadata": {},
   "outputs": [
    {
     "name": "stdout",
     "output_type": "stream",
     "text": [
      "Finding MAP:\n",
      "-6152.961638404865 1\n",
      "Finding MAP:\n",
      "-6161.037852195778 1\n"
     ]
    }
   ],
   "source": [
    "for pos in range(0,2):\n",
    "    print(\"Finding MAP:\")\n",
    "    calls = all_calls[pos]\n",
    "    errorProbs = all_errors[pos]\n",
    "    maxScore = None\n",
    "    G = None\n",
    "    for g in range(0,3):\n",
    "        L = rfuncts.log_likelihood_MAP(g,rArray(calls),2,rArray(errorProbs),len(calls))[0]\n",
    "        if not maxScore or maxScore < L: \n",
    "            maxScore=L\n",
    "            G=g\n",
    "    print (maxScore,G)"
   ]
  },
  {
   "cell_type": "markdown",
   "metadata": {},
   "source": [
    "<h4><a id='q1ca'>Question 1c Answers</a></h4>\n",
    "$\\hat{G}_{MAP,962}$ and $\\hat{G}_{MAP,964}$ are both one. We assumed a prior $P(G = g)$ of .5. We chose this value because our null hypothesis is that the individual these reads came from is homozygous reference. Having no knowledge of the reference allele, we chose .5 because the position is either a SNP or not a SNP, so one of 2 possibilities. We could have chose many other priors, but since $P(G = g)$ only scales the maximum likelihood, any value we put would give us the same result."
   ]
  },
  {
   "cell_type": "markdown",
   "metadata": {},
   "source": [
    "<h4><a id='q1d'>Question 1d</a></h4>\n",
    "\n",
    "##### What is your confidence in the MAP estimates? Provide a numeric measure of that confidence.\n",
    "\n",
    "Using the code below. we attempted to get a numerical estimate by using Asymptotic Confidence Intervals as described in the SNP calling notes from class. However, when we implemented the functions we (I) must have done something wrong with the derivations because for both we get a pval of 0, which is about what we would expect given that the data shows that there is a SNP there. From further searching I see that we were supposed to use the likelihood of \\psi but we ran out of time to make it work. "
   ]
  },
  {
   "cell_type": "code",
   "execution_count": 55,
   "metadata": {},
   "outputs": [
    {
     "name": "stdout",
     "output_type": "stream",
     "text": [
      "-83316.69248101514\n",
      "-67592.65415952701\n",
      "1.2326293961526864\n",
      "lambda: -0.4182992163208919\n",
      "0.0\n",
      "\n",
      "\n",
      "-89699.69855779826\n",
      "-69222.3349671043\n",
      "1.2958201800101827\n",
      "lambda: -0.5182876766225387\n",
      "0.0\n"
     ]
    }
   ],
   "source": [
    "from scipy.stats import chi2\n",
    "Ls = rfuncts.log_likelihood_gmap(\"data/Pos962_data.txt\")\n",
    "L_Ho = float(Ls[2])\n",
    "print (L_Ho)\n",
    "L_Ha = min(float(Ls[0]),float(Ls[1]))\n",
    "print (L_Ha)\n",
    "Lambda = L_Ho/L_Ha\n",
    "print(Lambda)\n",
    "lambd = -2*log(Lambda)\n",
    "print(\"lambda:\",lambd)\n",
    "print(chi2.pdf(lambd,1))\n",
    "print(\"\\n\")\n",
    "\n",
    "Ls = rfuncts.log_likelihood_gmap(\"data/Pos964_data.txt\")\n",
    "L_Ho = float(Ls[2])\n",
    "print (L_Ho)\n",
    "L_Ha = min(float(Ls[0]),float(Ls[1]))\n",
    "print (L_Ha)\n",
    "\n",
    "Lambda = L_Ho/L_Ha\n",
    "print(Lambda)\n",
    "lambd = -2*log(Lambda)\n",
    "print(\"lambda:\",lambd)\n",
    "print (chi2.pdf(lambd,1))\n"
   ]
  },
  {
   "cell_type": "code",
   "execution_count": 30,
   "metadata": {},
   "outputs": [
    {
     "name": "stdout",
     "output_type": "stream",
     "text": [
      "0.49999968218679913\n",
      "0.49999968218679913\n"
     ]
    }
   ],
   "source": [
    "for fileName in [\"data/Pos962_data.txt\",\"data/Pos964_data.txt\"]:\n",
    "    psi = rfuncts.estimate_psi(fileName)[0]"
   ]
  },
  {
   "cell_type": "markdown",
   "metadata": {},
   "source": [
    "<h4><a id='q1e'>Question 1e</a></h4>\n",
    "\n",
    "##### You should always look at your data and numeric summaries of it to make sure the data are consistent with assumptions your model is making. Do you see anything unusual in the data from these two sites? Are your conclusions and confidence affected?\n",
    "\n",
    "No, we already took a look at the data and 1 seems like a good estimate for the parameter G given that there appears to be a roughly equal number of A's and G's. Based on the quality score graphs I showed above we have really high quality reads so our answers wouldn't change."
   ]
  },
  {
   "cell_type": "markdown",
   "metadata": {},
   "source": [
    "<h3>Question 2</h3>\n",
    "&nbsp; <p><b>a.</b>Produce a space-separated text file with the individual in set{0,1,2}, the site in set{764,765,...,1199}, and the p-value for rejecting H0. For computing the p-value, use Monte Carlo sampling to estimate</p>\n",
    "<h4><a id='q2cc'>Question 2 Code</a></h4>\n",
    "\n",
    "##### Python Helper classes and functions"
   ]
  },
  {
   "cell_type": "code",
   "execution_count": 7,
   "metadata": {},
   "outputs": [],
   "source": [
    "from collections import Counter     \n",
    "class Locus:\n",
    "    def __init__(self,pos):\n",
    "        self.majorAllele = None\n",
    "        self.majorAlleleCount = -1\n",
    "        self.qscores = {0:[],1:[],2:[]}\n",
    "        self.errorProbs = {0:[],1:[],2:[]}\n",
    "        self.reads = {0:[],1:[],2:[]}\n",
    "        self.callMatchRef = {0:[],1:[],2:[]}\n",
    "        nuc_counter = {'A':0, 'C':0, 'G':0, 'T':0}\n",
    "        self.read_counter = {0:nuc_counter.copy(),    1:nuc_counter.copy(),    2:nuc_counter.copy()}\n",
    "        self.total_reads = {0:0,1:0,2:0}\n",
    "        \n",
    "    def __iter__(self):\n",
    "        for key in self.qscores.keys():yield key\n",
    "            \n",
    "    def add(self,line,individual):\n",
    "        if line != \"\":\n",
    "            read = SeqRead(line)\n",
    "            self.reads[individual].append(read)\n",
    "            self.errorProbs[individual].append(read.errorProb)\n",
    "            self.read_counter[individual][read.call] += 1\n",
    "            self.total_reads[individual] += 1\n",
    "\n",
    "    def calcMajorAllele(self):\n",
    "        totals = {}\n",
    "        for base in ['A','C','G','T']:\n",
    "            for i in range(0,3):\n",
    "                try: totals[base] += self.read_counter[i][base]\n",
    "                except: totals[base] = self.read_counter[i][base]\n",
    "        totals = Counter(totals)\n",
    "        self.majorAllele, self.majorAlleleCount = totals.most_common(1)[0] \n",
    "        \n",
    "        for ind in self:\n",
    "            for read in self.reads[ind]:\n",
    "                self.callMatchRef[ind].append(int(read.call == self.majorAllele))\n",
    "#                 self.qscores[ind].append(read.q)\n",
    "        \n",
    "def ProcessPosition(pos):\n",
    "    curLocus = Locus(pos)\n",
    "    i_0_file = \"data/Individual0_position%i.txt\" % pos\n",
    "    i_1_file = \"data/Individual1_position%i.txt\" % pos\n",
    "    i_2_file = \"data/Individual2_position%i.txt\" % pos\n",
    "    for line in open(i_0_file): curLocus.add(line,0)\n",
    "    for line in open(i_1_file): curLocus.add(line,1)\n",
    "    for line in open(i_2_file): curLocus.add(line,2)\n",
    "    curLocus.calcMajorAllele()\n",
    "    return curLocus        "
   ]
  },
  {
   "cell_type": "markdown",
   "metadata": {},
   "source": [
    "  #### R functions and R Coversion helper object"
   ]
  },
  {
   "cell_type": "code",
   "execution_count": 4,
   "metadata": {},
   "outputs": [],
   "source": [
    "from rpy2.robjects.packages import STAP\n",
    "from rpy2.robjects.vectors import FloatVector as rArray\n",
    "with open('Q2_DPBinomial.R', 'r') as fh: rtext = fh.read()\n",
    "rfuncts = STAP(rtext,\"\")"
   ]
  },
  {
   "cell_type": "code",
   "execution_count": 1,
   "metadata": {},
   "outputs": [],
   "source": [
    "import datetime\n",
    "from scipy.stats import bernoulli\n",
    "rbern=bernoulli.rvs \n",
    "import time\n",
    "nsims = 1000\n",
    "output = open(\"Question2.txt\",\"w\")\n",
    "output.write(\"Individual Pos MC-PVal PA-Pval NA-PVal BA-PVal MCBN-PVal\\n\")\n",
    "output.close()\n",
    "data=None\n",
    "failed, totalRuns = 0, 0\n",
    "for pos in range(764,764):\n",
    "    print( str(datetime.datetime.now()).split('.')[0])\n",
    "    print(pos)\n",
    "    data = ProcessPosition(pos)\n",
    "    for individual in data:\n",
    "        print(individual,pos,data.read_counter[individual],)\n",
    "        if data.total_reads[individual] == 0: #if there are no reads for that individual at that position\n",
    "            #output.write(\"%i %i %0.4f %0.4f %0.4f %0.4f %0.4f\\n\" % (individual,pos,0.0,0.0,0.0,0.0,0.0))\n",
    "            continue\n",
    "        successfulTrials = 0\n",
    "        refAllele = data.majorAllele\n",
    "        for sim in range(nsims):\n",
    "            numMatchesRef = 0\n",
    "            for read in data.reads[individual]:\n",
    "                #randomDraw = bern random (1-eij,1)\n",
    "                rdraw = rbern(1 - read.errorProb, size=1)[0]\n",
    "                numMatchesRef += rdraw\n",
    "            if numMatchesRef <= data.read_counter[individual][refAllele]: successfulTrials+=1\n",
    "            else: failed+=1\n",
    "            totalRuns+=1\n",
    "        MC_PVal   = successfulTrials/float(nsims)\n",
    "        PA_Pval   = rfuncts.dpbinom(data.read_counter[individual][refAllele],rArray(data.qscores[individual]),method=\"PA\")[0]\n",
    "        NA_PVal   = rfuncts.dpbinom(data.read_counter[individual][refAllele],rArray(data.qscores[individual]),method=\"NA\")[0]\n",
    "        BA_PVal   = rfuncts.dpbinom(data.read_counter[individual][refAllele],rArray(data.qscores[individual]),method=\"BA\")[0]\n",
    "        MCBN_PVal = rfuncts.dpbinom(data.read_counter[individual][refAllele],rArray(data.qscores[individual]),method=\"MC\")[0]\n",
    "        #outString = \"\\t\".join([str(individual),str(pos),\"%0.8f\" % MC_PVal,\"%0.8f\" % PA_Pval,\"%0.8f\" % NA_PVal,\"%0.8f\" % BA_PVal,\"%0.8f\" % MCBN_PVal,str(data.read_counter[individual],)])\n",
    "        #output.write(outString+\"\\n\")\n",
    "        output = open(\"Question2.txt\",\"a\")\n",
    "        output.write(\"%i %i %0.4f %0.4f %0.4f %0.4f %0.4f\\n\" % (individual,pos,MC_PVal,PA_Pval,NA_PVal,BA_PVal,MCBN_PVal))\n",
    "        output.close()\n",
    "output.close() "
   ]
  },
  {
   "cell_type": "markdown",
   "metadata": {},
   "source": [
    "<h4><a id='q2ab'>Question 2 A and B Answer Sample</a></h4>"
   ]
  },
  {
   "cell_type": "code",
   "execution_count": 9,
   "metadata": {},
   "outputs": [
    {
     "name": "stdout",
     "output_type": "stream",
     "text": [
      "Individual Pos MC-PVal PA-Pval NA-PVal BA-PVal MCBN-PVal\n",
      "0 1000 0.0000 0.4502 0.0000 0.0000 0.0000\n",
      "1 1000 0.0000 0.4338 0.0000 0.0000 0.0000\n",
      "2 1000 0.0000 0.0000 0.0000 0.0000 0.0000\n",
      "0 1001 0.0000 0.0004 0.0000 0.0000 0.0000\n",
      "1 1001 0.0000 0.0001 0.0000 0.0000 0.0000\n",
      "2 1001 0.0000 0.0000 0.0000 0.0000 0.0000\n",
      "0 1002 0.0000 0.3759 0.0000 0.0000 0.0000\n",
      "1 1002 0.0000 0.3815 0.0000 0.0000 0.0000\n",
      "2 1002 0.0000 0.4128 0.0000 0.0000 0.0000\n",
      "2 996 0.0000 0.4445 0.0000 0.0000 0.0000\n",
      "0 997 0.1820 0.4891 0.1371 0.2498 0.0725\n",
      "1 997 0.0000 0.4615 0.0001 0.0103 0.0001\n",
      "2 997 0.0000 0.4368 0.0000 0.0000 0.0000\n",
      "0 998 0.0000 0.4054 0.0000 0.0000 0.0000\n",
      "1 998 0.0000 0.4070 0.0000 0.0000 0.0000\n",
      "2 998 0.0000 0.3695 0.0000 0.0000 0.0000\n",
      "0 999 0.0000 0.4496 0.0000 0.0000 0.0000\n",
      "1 999 0.0000 0.4745 0.0000 0.0019 0.0000\n",
      "2 999 0.0000 0.3575 0.0000 0.0000 0.0000\n"
     ]
    }
   ],
   "source": [
    "%%bash\n",
    "head Question2_output.txt\n",
    "tail Question2_output.txt"
   ]
  },
  {
   "cell_type": "markdown",
   "metadata": {},
   "source": [
    "[Project Outline](#outline)\n",
    "<h4><a id='q2c'>Question 2c</a></h4>\n",
    "For the most part I believe the results make sense. When we se a lot of reads that are all the same base we get 0 or close to 0. When there is a clear het, we get larger p values. The poison method appear to never have significant pvalues. The closest distribution to our monte carlo sampling mimicing a poisson binomail is the monte carlo simulation using a binomail."
   ]
  },
  {
   "cell_type": "markdown",
   "metadata": {},
   "source": [
    "[Project Outline](#outline)\n",
    "<h1><a id='q3'>Question 3</a></h1>\n",
    "<h4>Identify all the sites whose support for homozygosity is high</h4>"
   ]
  },
  {
   "cell_type": "code",
   "execution_count": 2,
   "metadata": {},
   "outputs": [
    {
     "name": "stdout",
     "output_type": "stream",
     "text": [
      "Total number of positions where all individuals are homozygous: 310\n"
     ]
    }
   ],
   "source": [
    "with open('Q1_MLE.R', 'r') as fh: rtext = fh.read()\n",
    "rfuncts = STAP(rtext,\"\")\n",
    "Gmaps = set()\n",
    "remove=set()\n",
    "#for each position in the data\n",
    "for pos in range(764,1200):\n",
    "    #1. Read the data for all 3 individuals at that position\n",
    "    data = ProcessPosition(pos)\n",
    "    \n",
    "    #2. For each individual\n",
    "    for ind in [0,1,2]:\n",
    "        #If there are no reads for that individual move to the next individual\n",
    "        if data.total_reads[ind] == 0 : continue\n",
    "            \n",
    "        #Determine G=2 Log likelihood\n",
    "        maxScore = rfuncts.log_likelihood_MAP(2,rArray(data.callMatchRef[ind]),2,rArray(data.errorProbs[ind]),data.total_reads[ind])[0]\n",
    "        \n",
    "        #Check to make sure G=1,0 are not bigger than G=2. If they are, remove position pos from being a homozygous position\n",
    "        gIs2 = True\n",
    "        for g in range(1,0,-1):\n",
    "            L = rfuncts.log_likelihood_MAP(g,rArray(data.callMatchRef[ind]),2,rArray(data.errorProbs[ind]),data.total_reads[ind])[0]\n",
    "            if maxScore < L: \n",
    "                gIs2 = False\n",
    "                remove.add(pos)\n",
    "                break\n",
    "        if gIs2: Gmaps.add(pos)\n",
    "\n",
    "homozygousPositions = Gmaps.difference(remove)\n",
    "pickle.dump(homozygousPositions,open(\"homoPos.p\",\"wb\"))\n",
    "\n",
    "print(\"Total number of positions where all individuals are homozygous:\",len(homozygousPositions))"
   ]
  },
  {
   "cell_type": "code",
   "execution_count": 3,
   "metadata": {},
   "outputs": [],
   "source": [
    "homozygousPositions = pickle.load(open(\"homoPos.p\",\"rb\"))"
   ]
  },
  {
   "cell_type": "markdown",
   "metadata": {},
   "source": [
    "<h4>Group by TrueBase then by read call then by q</h4>"
   ]
  },
  {
   "cell_type": "code",
   "execution_count": 20,
   "metadata": {},
   "outputs": [
    {
     "name": "stdout",
     "output_type": "stream",
     "text": [
      "765 766 767 768 769 770 771 772 773 774 775 776 777 778 779 780 781 782 783 784 785 786 787 788 789 790 791 792 793 794 795 796 797 798 799 800 801 802 803 804 805 806 807 808 809 810 811 812 813 814 815 816 817 818 819 820 821 822 823 824 825 826 827 828 829 830 831 832 833 834 835 836 837 838 840 841 842 843 844 845 846 847 848 849 850 851 852 853 855 856 857 858 859 860 861 862 863 864 865 867 868 869 870 871 872 873 874 875 876 877 879 880 882 883 884 885 886 887 888 889 890 891 892 893 894 895 896 897 898 899 900 901 903 907 908 915 921 930 932 935 942 952 955 956 957 958 961 965 966 967 970 972 977 980 983 986 991 993 996 997 998 999 1002 1005 1006 1007 1008 1011 1021 1028 1031 1033 1042 1048 1055 1056 1060 1062 1063 1064 1065 1066 1067 1068 1069 1070 1071 1072 1073 1074 1075 1076 1077 1078 1079 1080 1081 1083 1084 1086 1087 1088 1089 1090 1091 1092 1093 1094 1095 1096 1098 1099 1100 1101 1102 1103 1104 1105 1106 1107 1108 1110 1111 1112 1113 1114 1115 1116 1117 1118 1119 1120 1121 1122 1123 1125 1126 1127 1128 1129 1130 1131 1132 1133 1134 1135 1136 1137 1138 1139 1140 1141 1142 1143 1144 1145 1146 1147 1148 1149 1150 1151 1152 1153 1154 1155 1156 1157 1158 1159 1160 1161 1162 1163 1164 1165 1166 1167 1168 1169 1170 1171 1172 1173 1174 1175 1176 1177 1178 1179 1180 1181 1182 1183 1184 1185 1186 1187 1188 1189 1190 1191 1192 1193 1194 1195 1196 1197 1198 1199 "
     ]
    }
   ],
   "source": [
    "all_reads = {'A':{},'C':{},'G':{},'T':{}}  #{trueBase:{readCall:{q:count}}}\n",
    "all_qs = set()\n",
    "for pos in homozygousPositions:\n",
    "    print(pos,end=\" \")\n",
    "    data = ProcessPosition(pos)\n",
    "    ma = data.majorAllele\n",
    "    for ind in data:\n",
    "        for read in data.reads[ind]:\n",
    "#             if read.q == 2:\n",
    "#                 print(read.call,ma)\n",
    "            all_qs.add(read.q)\n",
    "            try: all_reads[ma][read.call][read.q] +=1\n",
    "            except: \n",
    "                try:all_reads[ma][read.call][read.q] = 1\n",
    "                except: all_reads[ma][read.call] = {read.q:1}\n",
    "pickle.dump(all_reads,open(\"aggregatedByMatchRefData.p\",\"wb\"))       \n",
    "pickle.dump(all_qs,open(\"all_qs.p\",\"wb\"))  "
   ]
  },
  {
   "cell_type": "code",
   "execution_count": 15,
   "metadata": {},
   "outputs": [],
   "source": [
    "all_reads = pickle.load(open(\"aggregatedByMatchRefData.p\",\"rb\"))\n",
    "all_qs = pickle.load(open(\"all_qs.p\",\"rb\"))"
   ]
  },
  {
   "cell_type": "code",
   "execution_count": 25,
   "metadata": {},
   "outputs": [
    {
     "name": "stdout",
     "output_type": "stream",
     "text": [
      "Number of Q values: 81\n",
      "P_2 = 621 / 1376 = 0.45130814\n",
      "P_3 = 790 / 1923 = 0.41081643\n",
      "P_4 = 921 / 3780 = 0.24365079\n",
      "P_5 = 326 / 1515 = 0.21518152\n",
      "P_6 = 258 / 1372 = 0.18804665\n",
      "P_7 = 47 / 328 = 0.14329268\n",
      "P_8 = 126 / 734 = 0.17166213\n",
      "P_9 = 66 / 493 = 0.13387424\n",
      "P_10 = 133 / 726 = 0.18319559\n",
      "P_11 = 37 / 650 = 0.05692308\n",
      "P_12 = 33 / 1117 = 0.02954342\n",
      "P_13 = 23 / 1345 = 0.01710037\n",
      "P_14 = 126 / 3601 = 0.03499028\n",
      "P_15 = 288 / 12224 = 0.02356021\n",
      "P_16 = 1076 / 24969 = 0.04309344\n",
      "P_17 = 250 / 14420 = 0.01733703\n",
      "P_18 = 200 / 6574 = 0.03042288\n",
      "P_19 = 236 / 7781 = 0.03033029\n",
      "P_20 = 122 / 6515 = 0.01872602\n",
      "P_21 = 15 / 3186 = 0.00470810\n",
      "P_22 = 15 / 5302 = 0.00282912\n",
      "P_23 = 18 / 6454 = 0.00278897\n",
      "P_24 = 30 / 16109 = 0.00186231\n",
      "P_25 = 32 / 11603 = 0.00275791\n",
      "P_26 = 19 / 16977 = 0.00111916\n",
      "P_27 = 14 / 14756 = 0.00094877\n",
      "P_28 = 1 / 10 = 0.10000000\n",
      "P_29 = 42 / 6403 = 0.00655943\n",
      "P_30 = 66 / 17638 = 0.00374192\n",
      "P_31 = 52 / 12756 = 0.00407651\n",
      "P_32 = 277 / 93794 = 0.00295328\n",
      "P_33 = 212 / 114444 = 0.00185243\n",
      "P_34 = 178 / 97591 = 0.00182394\n",
      "P_35 = 78 / 30391 = 0.00256655\n",
      "P_36 = 161 / 52135 = 0.00308814\n",
      "P_37 = 309 / 315831 = 0.00097837\n",
      "P_38 = 1080 / 549827 = 0.00196425\n",
      "P_39 = 564 / 300124 = 0.00187922\n",
      "P_40 = 0 / 4 = 0.00000000\n",
      "P_41 = 0 / 15 = 0.00000000\n",
      "P_42 = 12 / 4343 = 0.00276307\n",
      "P_43 = 14 / 4039 = 0.00346620\n",
      "P_44 = 27 / 8307 = 0.00325027\n",
      "P_45 = 18 / 7720 = 0.00233161\n",
      "P_46 = 29 / 10424 = 0.00278204\n",
      "P_47 = 23 / 8446 = 0.00272318\n",
      "P_48 = 37 / 12420 = 0.00297907\n",
      "P_49 = 26 / 14952 = 0.00173890\n",
      "P_50 = 46 / 18037 = 0.00255031\n",
      "P_51 = 53 / 19884 = 0.00266546\n",
      "P_52 = 81 / 36316 = 0.00223042\n",
      "P_53 = 96 / 51272 = 0.00187237\n",
      "P_54 = 190 / 99873 = 0.00190242\n",
      "P_55 = 300 / 183721 = 0.00163291\n",
      "P_56 = 256 / 171782 = 0.00149026\n",
      "P_57 = 202 / 123576 = 0.00163462\n",
      "P_58 = 130 / 92639 = 0.00140330\n",
      "P_59 = 29 / 12807 = 0.00226439\n",
      "P_60 = 29 / 8132 = 0.00356616\n",
      "P_61 = 24 / 8655 = 0.00277296\n",
      "P_62 = 19 / 8599 = 0.00220956\n",
      "P_63 = 12 / 9884 = 0.00121408\n",
      "P_64 = 50 / 22191 = 0.00225317\n",
      "P_65 = 68 / 30000 = 0.00226667\n",
      "P_66 = 153 / 85469 = 0.00179012\n",
      "P_67 = 173 / 111181 = 0.00155602\n",
      "P_68 = 137 / 92854 = 0.00147543\n",
      "P_69 = 143 / 97423 = 0.00146783\n",
      "P_70 = 62 / 38319 = 0.00161800\n",
      "P_71 = 103 / 41929 = 0.00245653\n",
      "P_72 = 125 / 57381 = 0.00217842\n",
      "P_73 = 179 / 80279 = 0.00222972\n",
      "P_74 = 231 / 120798 = 0.00191228\n",
      "P_75 = 336 / 187170 = 0.00179516\n",
      "P_76 = 370 / 175265 = 0.00211109\n",
      "P_77 = 300 / 192115 = 0.00156156\n",
      "P_78 = 348 / 173039 = 0.00201111\n",
      "P_79 = 734 / 390186 = 0.00188115\n",
      "P_80 = 936 / 499984 = 0.00187206\n",
      "P_81 = 451 / 294409 = 0.00153188\n",
      "P_82 = 198 / 130173 = 0.00152105\n"
     ]
    }
   ],
   "source": [
    "print(\"Number of Q values:\",len(all_qs))\n",
    "Phat_q = {}\n",
    "Q_matchingCounts = {}\n",
    "for q in all_qs:\n",
    "    totalReads = 0\n",
    "    notMatching = 0\n",
    "    for refBase, calls in all_reads.items():\n",
    "        #Reads that match the ref base and Q=q\n",
    "        if q in all_reads[refBase][refBase]: totalReads += all_reads[refBase][refBase][q] \n",
    "            \n",
    "        #Reads that don't match the ref base and have Q=q\n",
    "        for base in calls:\n",
    "            if refBase == base: continue #Skip the ref base because these match and already added to total\n",
    "            try: \n",
    "                notMatching += all_reads[refBase][base][q]\n",
    "                totalReads  += all_reads[refBase][base][q]\n",
    "            except:continue #Do nothing there are no reads with that base or that quality\n",
    "            #print (\"\\t\",q,refBase,base,all_reads[refBase][base][q])\n",
    "    Q_matchingCounts[q] = [totalReads-notMatching,notMatching]  # {q:[#reads with Q=q and match ref, #reads with Q=q and do NOT match ref]}\n",
    "    phat_q = notMatching/float(totalReads)\n",
    "    print (\"P_%i = %i / %i = %.8f\" % (q,notMatching,totalReads,phat_q))\n",
    "    Phat_q[q] = phat_q #Store p-hat_q %"
   ]
  },
  {
   "cell_type": "markdown",
   "metadata": {},
   "source": [
    "<h4>Plug all $\\hat{P}_{q}$ into the $L(H_o |  Data )$</h4>\n",
    "<a id=error>What is going on here? Do we have the equation wrong somewhere?</a>"
   ]
  },
  {
   "cell_type": "code",
   "execution_count": 27,
   "metadata": {},
   "outputs": [
    {
     "name": "stdout",
     "output_type": "stream",
     "text": [
      "Q=2 (1-0.45130814)^755 * (0.45130814)^621\n",
      "Q=3 (1-0.41081643)^1133 * (0.41081643)^790\n",
      "Q=4 (1-0.24365079)^2859 * (0.24365079)^921\n",
      "Q=5 (1-0.21518152)^1189 * (0.21518152)^326\n",
      "Q=6 (1-0.18804665)^1114 * (0.18804665)^258\n",
      "Q=7 (1-0.14329268)^281 * (0.14329268)^47\n",
      "Q=8 (1-0.17166213)^608 * (0.17166213)^126\n",
      "Q=9 (1-0.13387424)^427 * (0.13387424)^66\n",
      "Q=10 (1-0.18319559)^593 * (0.18319559)^133\n",
      "Q=11 (1-0.05692308)^613 * (0.05692308)^37\n",
      "Q=12 (1-0.02954342)^1084 * (0.02954342)^33\n",
      "Q=13 (1-0.01710037)^1322 * (0.01710037)^23\n",
      "Q=14 (1-0.03499028)^3475 * (0.03499028)^126\n",
      "Q=15 (1-0.02356021)^11936 * (0.02356021)^288\n",
      "Q=16 (1-0.04309344)^23893 * (0.04309344)^1076\n",
      "Q=17 (1-0.01733703)^14170 * (0.01733703)^250\n",
      "Q=18 (1-0.03042288)^6374 * (0.03042288)^200\n",
      "Q=19 (1-0.03033029)^7545 * (0.03033029)^236\n",
      "Q=20 (1-0.01872602)^6393 * (0.01872602)^122\n",
      "Q=21 (1-0.00470810)^3171 * (0.00470810)^15\n",
      "Q=22 (1-0.00282912)^5287 * (0.00282912)^15\n",
      "Q=23 (1-0.00278897)^6436 * (0.00278897)^18\n",
      "Q=24 (1-0.00186231)^16079 * (0.00186231)^30\n",
      "Q=25 (1-0.00275791)^11571 * (0.00275791)^32\n",
      "Q=26 (1-0.00111916)^16958 * (0.00111916)^19\n",
      "Q=27 (1-0.00094877)^14742 * (0.00094877)^14\n",
      "Q=28 (1-0.10000000)^9 * (0.10000000)^1\n",
      "Q=29 (1-0.00655943)^6361 * (0.00655943)^42\n",
      "Q=30 (1-0.00374192)^17572 * (0.00374192)^66\n",
      "Q=31 (1-0.00407651)^12704 * (0.00407651)^52\n",
      "Q=32 (1-0.00295328)^93517 * (0.00295328)^277\n",
      "Q=33 (1-0.00185243)^114232 * (0.00185243)^212\n",
      "Q=34 (1-0.00182394)^97413 * (0.00182394)^178\n",
      "Q=35 (1-0.00256655)^30313 * (0.00256655)^78\n",
      "Q=36 (1-0.00308814)^51974 * (0.00308814)^161\n",
      "Q=37 (1-0.00097837)^315522 * (0.00097837)^309\n",
      "Q=38 (1-0.00196425)^548747 * (0.00196425)^1080\n",
      "Q=39 (1-0.00187922)^299560 * (0.00187922)^564\n",
      "Q=40 (1-0.00000000)^4 * (0.00000000)^0\n",
      "Q=41 (1-0.00000000)^15 * (0.00000000)^0\n",
      "Q=42 (1-0.00276307)^4331 * (0.00276307)^12\n",
      "Q=43 (1-0.00346620)^4025 * (0.00346620)^14\n",
      "Q=44 (1-0.00325027)^8280 * (0.00325027)^27\n",
      "Q=45 (1-0.00233161)^7702 * (0.00233161)^18\n",
      "Q=46 (1-0.00278204)^10395 * (0.00278204)^29\n",
      "Q=47 (1-0.00272318)^8423 * (0.00272318)^23\n",
      "Q=48 (1-0.00297907)^12383 * (0.00297907)^37\n",
      "Q=49 (1-0.00173890)^14926 * (0.00173890)^26\n",
      "Q=50 (1-0.00255031)^17991 * (0.00255031)^46\n",
      "Q=51 (1-0.00266546)^19831 * (0.00266546)^53\n",
      "Q=52 (1-0.00223042)^36235 * (0.00223042)^81\n",
      "Q=53 (1-0.00187237)^51176 * (0.00187237)^96\n",
      "Q=54 (1-0.00190242)^99683 * (0.00190242)^190\n",
      "Q=55 (1-0.00163291)^183421 * (0.00163291)^300\n",
      "Q=56 (1-0.00149026)^171526 * (0.00149026)^256\n",
      "Q=57 (1-0.00163462)^123374 * (0.00163462)^202\n",
      "Q=58 (1-0.00140330)^92509 * (0.00140330)^130\n",
      "Q=59 (1-0.00226439)^12778 * (0.00226439)^29\n",
      "Q=60 (1-0.00356616)^8103 * (0.00356616)^29\n",
      "Q=61 (1-0.00277296)^8631 * (0.00277296)^24\n",
      "Q=62 (1-0.00220956)^8580 * (0.00220956)^19\n",
      "Q=63 (1-0.00121408)^9872 * (0.00121408)^12\n",
      "Q=64 (1-0.00225317)^22141 * (0.00225317)^50\n",
      "Q=65 (1-0.00226667)^29932 * (0.00226667)^68\n",
      "Q=66 (1-0.00179012)^85316 * (0.00179012)^153\n",
      "Q=67 (1-0.00155602)^111008 * (0.00155602)^173\n",
      "Q=68 (1-0.00147543)^92717 * (0.00147543)^137\n",
      "Q=69 (1-0.00146783)^97280 * (0.00146783)^143\n",
      "Q=70 (1-0.00161800)^38257 * (0.00161800)^62\n",
      "Q=71 (1-0.00245653)^41826 * (0.00245653)^103\n",
      "Q=72 (1-0.00217842)^57256 * (0.00217842)^125\n",
      "Q=73 (1-0.00222972)^80100 * (0.00222972)^179\n",
      "Q=74 (1-0.00191228)^120567 * (0.00191228)^231\n",
      "Q=75 (1-0.00179516)^186834 * (0.00179516)^336\n",
      "Q=76 (1-0.00211109)^174895 * (0.00211109)^370\n",
      "Q=77 (1-0.00156156)^191815 * (0.00156156)^300\n",
      "Q=78 (1-0.00201111)^172691 * (0.00201111)^348\n",
      "Q=79 (1-0.00188115)^389452 * (0.00188115)^734\n",
      "Q=80 (1-0.00187206)^499048 * (0.00187206)^936\n",
      "Q=81 (1-0.00153188)^293958 * (0.00153188)^451\n",
      "Q=82 (1-0.00152105)^129975 * (0.00152105)^198\n",
      "0.0\n"
     ]
    }
   ],
   "source": [
    "L_H_o = 1.0\n",
    "for q in all_qs:\n",
    "    print(\"Q=%i (1-%.8f)^%i * (%.8f)^%i\" % (q,Phat_q[q],Q_matchingCounts[q][0],Phat_q[q],Q_matchingCounts[q][1]))\n",
    "    L_H_o *= (1-Phat_q[q])**(Q_matchingCounts[q][0]) * (1-Phat_q[q])**(Q_matchingCounts[q][1])\n",
    "print(L_H_o)"
   ]
  },
  {
   "cell_type": "markdown",
   "metadata": {},
   "source": [
    "# Dev artifacts"
   ]
  },
  {
   "cell_type": "code",
   "execution_count": 21,
   "metadata": {},
   "outputs": [
    {
     "name": "stdout",
     "output_type": "stream",
     "text": [
      "{64: 197, 65: 2538, 66: 4219, 67: 3592, 63: 210, 62: 156, 68: 601, 69: 54, 49: 198, 51: 106}\n"
     ]
    }
   ],
   "source": [
    "tester={}\n",
    "data = ProcessPosition(768)\n",
    "for read in data.reads[1]:\n",
    "    try:tester[read.q] += 1\n",
    "    except:tester[read.q] = 1\n",
    "print(tester)"
   ]
  },
  {
   "cell_type": "code",
   "execution_count": 19,
   "metadata": {},
   "outputs": [
    {
     "data": {
      "text/plain": [
       "-6158.9693702291115"
      ]
     },
     "execution_count": 19,
     "metadata": {},
     "output_type": "execute_result"
    }
   ],
   "source": [
    "data = ProcessPosition(964)\n",
    "data.callMatchRef[ind]\n",
    "data.errorProbs[ind]\n",
    "rfuncts.log_likelihood_MAP(1,rArray(data.callMatchRef[ind]),2,rArray(data.errorProbs[ind]),data.total_reads[ind])[0]"
   ]
  },
  {
   "cell_type": "code",
   "execution_count": 6,
   "metadata": {},
   "outputs": [],
   "source": [
    "fh = open(\"data/I0_Pos962_data.txt\",\"w\")\n",
    "fh.write(\"i\\tj\\tq\\ta\\n\")\n",
    "nRead = 0\n",
    "data = ProcessPosition(962)\n",
    "for read in data.reads[0]: \n",
    "    nRead +=1\n",
    "    fh.write(\"0\\t%i\\t%i\\t%i\\n\" % (nRead,read.q,int(read.call == data.majorAllele)))\n",
    "fh.close()\n",
    "fh = open(\"data/I0_Pos768_data.txt\",\"w\")\n",
    "fh.write(\"i\\tj\\tq\\ta\\n\")\n",
    "nRead = 0\n",
    "data = ProcessPosition(768)\n",
    "for read in data.reads[0]: \n",
    "    nRead +=1\n",
    "    fh.write(\"0\\t%i\\t%i\\t%i\\n\" % (nRead,read.q,int(read.call == data.majorAllele)))\n",
    "fh.close()"
   ]
  },
  {
   "cell_type": "code",
   "execution_count": 25,
   "metadata": {},
   "outputs": [
    {
     "name": "stdout",
     "output_type": "stream",
     "text": [
      "4827\n",
      "{'A': 4044, 'C': 3, 'G': 4827, 'T': 9}\n",
      "8869\n",
      "{'A': 2, 'C': 2, 'G': 8869, 'T': 2}\n"
     ]
    }
   ],
   "source": [
    "data = ProcessPosition(962)\n",
    "print(data.read_counter[0][data.majorAllele])\n",
    "print(data.read_counter[0])\n",
    "data = ProcessPosition(768)\n",
    "print(data.read_counter[0][data.majorAllele])\n",
    "print(data.read_counter[0])"
   ]
  },
  {
   "cell_type": "code",
   "execution_count": null,
   "metadata": {},
   "outputs": [],
   "source": [
    "count = 0\n",
    "for fhName in [\"data/Pos962_data.txt\",\"data/Pos964_data.txt\"]:\n",
    "    fh = open(fhName,\"w\")\n",
    "    fh.write(\"i\\tj\\tq\\ta\\n\")\n",
    "    nRead = 0\n",
    "    for read in positions[count]: \n",
    "        nRead +=1\n",
    "        fh.write(\"0\\t%i\\t%i\\t%i\\n\" % (nRead,read.q,int(read.call == 'A')))\n",
    "    fh.close()\n",
    "    count+=1"
   ]
  },
  {
   "cell_type": "code",
   "execution_count": 8,
   "metadata": {},
   "outputs": [
    {
     "name": "stdout",
     "output_type": "stream",
     "text": [
      "765 766 767 768 769 770 771 772 773 774 775 776 777 778 779 780 781 782 783 784 785 786 787 788 789 790 791 792 793 794 795 796 797 798 799 800 801 802 803 804 805 806 807 808 809 810 811 812 813 814 815 816 817 818 819 820 821 822 823 824 825 826 827 828 829 830 831 832 833 834 835 836 837 838 839 840 841 842 843 844 845 846 847 848 849 850 851 852 853 854 855 856 857 858 859 860 861 862 863 864 865 866 867 868 869 870 871 872 873 874 875 876 877 878 879 880 881 882 883 884 885 886 887 888 889 890 891 892 893 894 895 896 897 898 899 900 901 902 903 904 905 906 907 908 909 910 911 912 913 914 915 916 917 918 919 920 921 922 923 924 925 926 927 928 929 930 931 932 933 934 935 936 937 938 939 940 941 942 943 944 945 946 947 948 949 950 951 952 953 954 955 956 957 958 959 960 961 962 963 964 965 966 967 968 969 970 971 972 973 974 975 976 977 978 979 980 981 982 983 984 985 986 987 988 989 990 991 992 993 994 995 996 997 998 999 1000 1001 1002 1003 1004 1005 1006 1007 1008 1009 1010 1011 1012 1013 1014 1015 1016 1017 1018 1019 1020 1021 1022 1023 1024 1025 1026 1027 1028 1029 1030 1031 1032 1033 1034 1035 1036 1037 1038 1039 1040 1041 1042 1043 1044 1045 1046 1047 1048 1049 1050 1051 1052 1053 1054 1055 1056 1057 1058 1059 1060 1061 1062 1063 1064 1065 1066 1067 1068 1069 1070 1071 1072 1073 1074 1075 1076 1077 1078 1079 1080 1081 1082 1083 1084 1085 1086 1087 1088 1089 1090 1091 1092 1093 1094 1095 1096 1097 1098 1099 1100 1101 1102 1103 1104 1105 1106 1107 1108 1109 1110 1111 1112 1113 1114 1115 1116 1117 1118 1119 1120 1121 1122 1123 1124 1125 1126 1127 1128 1129 1130 1131 1132 1133 1134 1135 1136 1137 1138 1139 1140 1141 1142 1143 1144 1145 1146 1147 1148 1149 1150 1151 1152 1153 1154 1155 1156 1157 1158 1159 1160 1161 1162 1163 1164 1165 1166 1167 1168 1169 1170 1171 1172 1173 1174 1175 1176 1177 1178 1179 1180 1181 1182 1183 1184 1185 1186 1187 1188 1189 1190 1191 1192 1193 1194 1195 1196 1197 1198 1199 "
     ]
    }
   ],
   "source": [
    "ProcessPosition(764)\n",
    "nuc_counter = {'A':0.0, 'C':0.0, 'G':0.0, 'T':0.0}\n",
    "sumErrors ={0:nuc_counter.copy(),1:nuc_counter.copy(),2:nuc_counter.copy()}\n",
    "\n",
    "for pos in range(765,1200):\n",
    "    print (pos, end=\" \")\n",
    "    data = ProcessPosition(pos)\n",
    "    for ind in data:\n",
    "        for read in data.reads[ind]: sumErrors[ind][read.call]+= read.errorProb"
   ]
  },
  {
   "cell_type": "code",
   "execution_count": 11,
   "metadata": {},
   "outputs": [
    {
     "name": "stdout",
     "output_type": "stream",
     "text": [
      "Base: A 3429.1776508600797\n",
      "Base: C 2259.211534865086\n",
      "Base: G 2182.5860077850057\n",
      "Base: T 3262.2079794843016\n"
     ]
    }
   ],
   "source": [
    "for base in nuc_counter:\n",
    "    print(\"Base:\",base,end=\" \")\n",
    "    total = 0.0\n",
    "    for ind in sumErrors:total += sumErrors[ind][base]\n",
    "    print (total)\n"
   ]
  },
  {
   "cell_type": "code",
   "execution_count": 18,
   "metadata": {},
   "outputs": [
    {
     "data": {
      "text/plain": [
       "<__main__.Locus at 0x2b4dee43e128>"
      ]
     },
     "execution_count": 18,
     "metadata": {},
     "output_type": "execute_result"
    }
   ],
   "source": [
    "# from pandas import DataFrame\n",
    "# dataLayout = DataFrame(dataLayout)\n",
    "# for base in data[0]:\n",
    "#     print(dataLayout.)\n",
    "data = ProcessPosition(942)\n",
    "data.\n",
    "# dataLayout[\"Itotal\"] = dataLayout.sum()\n",
    "# dataLayout"
   ]
  },
  {
   "cell_type": "code",
   "execution_count": null,
   "metadata": {},
   "outputs": [],
   "source": [
    "data.reads"
   ]
  }
 ],
 "metadata": {
  "kernelspec": {
   "display_name": "Python 3",
   "language": "python",
   "name": "python3"
  },
  "language_info": {
   "codemirror_mode": {
    "name": "ipython",
    "version": 3
   },
   "file_extension": ".py",
   "mimetype": "text/x-python",
   "name": "python",
   "nbconvert_exporter": "python",
   "pygments_lexer": "ipython3",
   "version": "3.7.1"
  }
 },
 "nbformat": 4,
 "nbformat_minor": 2
}
