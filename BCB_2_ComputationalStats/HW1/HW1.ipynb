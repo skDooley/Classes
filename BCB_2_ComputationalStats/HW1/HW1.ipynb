{
 "cells": [
  {
   "cell_type": "code",
   "execution_count": 1,
   "metadata": {},
   "outputs": [],
   "source": [
    "%matplotlib inline\n",
    "%load_ext rpy2.ipython\n",
    "from pandas import Series\n",
    "from collections import Counter\n",
    "import rpy2.rinterface\n",
    "from rpy2.robjects.packages import STAP\n",
    "from rpy2.robjects.vectors import FloatVector as rArray"
   ]
  },
  {
   "cell_type": "markdown",
   "metadata": {},
   "source": [
    "### Data prep and cursory analysis"
   ]
  },
  {
   "cell_type": "markdown",
   "metadata": {},
   "source": [
    "##### Divide the data by individual and position because github wont allow large files and this will allow us to only load small amounts of data into memory at a time"
   ]
  },
  {
   "cell_type": "code",
   "execution_count": 2,
   "metadata": {},
   "outputs": [
    {
     "name": "stdout",
     "output_type": "stream",
     "text": [
      "Coverage for position 962:\n",
      "    8883 Individual0_position962.txt\n",
      "Coverage for position 964:\n",
      "    8886 Individual0_position964.txt\n",
      "\n",
      "0 0 962 A p\n",
      "0 1 962 A h\n",
      "0 2 962 A i\n",
      "0 3 962 A l\n",
      "0 4 962 G X\n",
      "0 5 962 G p\n",
      "0 6 962 G p\n",
      "0 7 962 A p\n",
      "0 8 962 A p\n",
      "0 9 962 G r\n"
     ]
    }
   ],
   "source": [
    "%%bash\n",
    "cd data/\n",
    "for individual in {0..2}; do \n",
    "    for pos in {764..1199}; do\n",
    "        awk -v individual=\"$individual\" -v pos=\"$pos\" '($1==individual && $3==pos && $4!=\"NA\") {print $0}' genotyping.txt > Individual$individual\\_position$pos.txt\n",
    "    done\n",
    "done\n",
    "echo \"Coverage for position 962:\"; wc -l Individual0_position962.txt\n",
    "echo \"Coverage for position 964:\"; wc -l Individual0_position964.txt; echo\n",
    "head Individual0_position962.txt"
   ]
  },
  {
   "cell_type": "markdown",
   "metadata": {},
   "source": [
    "##### Genotyping.txt\n",
    "\n",
    "<ol style=\"display: inline; padding: 0;margin-top: -10px;\"> <p style=\"display: inline; padding: 0;margin-top: -10px;\"><u>Column Designations:</u></p>\n",
    "    <li>Id of individual</li>\n",
    "    <li>Id of read</li>\n",
    "    <li>Reference position</li>\n",
    "    <li>Read base call</li>\n",
    "    <li>Read quality score</li>\n",
    "</ol>\n"
   ]
  },
  {
   "cell_type": "markdown",
   "metadata": {},
   "source": [
    "##### Read the data for the two positions and show how the Q scores are distributed"
   ]
  },
  {
   "cell_type": "code",
   "execution_count": 2,
   "metadata": {},
   "outputs": [
    {
     "name": "stdout",
     "output_type": "stream",
     "text": [
      "count    8883.000000\n",
      "mean      104.602837\n",
      "std        13.239879\n",
      "min        36.000000\n",
      "25%       104.000000\n",
      "50%       111.000000\n",
      "75%       113.000000\n",
      "max       114.000000\n",
      "dtype: float64\n",
      "count    8886.000000\n",
      "mean      108.660027\n",
      "std         9.702624\n",
      "min        36.000000\n",
      "25%       110.000000\n",
      "50%       113.000000\n",
      "75%       113.000000\n",
      "max       114.000000\n",
      "dtype: float64\n"
     ]
    },
    {
     "data": {
      "image/png": "[encoded data removed]",
      "text/plain": [
       "<Figure size 432x288 with 1 Axes>"
      ]
     },
     "metadata": {
      "needs_background": "light"
     },
     "output_type": "display_data"
    }
   ],
   "source": [
    "# class SeqRead:\n",
    "#     def __init__(self,data):\n",
    "#         rec = data.strip().split()\n",
    "#         self.q = ord(rec[4])\n",
    "#         self.call = rec[3]\n",
    "class SeqRead:\n",
    "    def __init__(self,data):\n",
    "        rec = data.strip().split()\n",
    "        self.errorProb = 10.0**(-(ord(rec[4])-33)/10.0)\n",
    "        self.q = ord(rec[4])\n",
    "        self.call = rec[3]\n",
    "        \n",
    "pos962,pos964 = [],[]\n",
    "for line in open(\"data/Individual0_position962.txt\"): pos962.append(SeqRead(line))\n",
    "for line in open(\"data/Individual0_position964.txt\"): pos964.append(SeqRead(line))\n",
    "positions = [pos962,pos964]\n",
    "hists = []\n",
    "all_qs, all_errors, all_calls = [],[],[]\n",
    "\n",
    "for pos in positions:\n",
    "    qscores = []\n",
    "    errorProbs = []\n",
    "    calls = []\n",
    "    for read in pos:\n",
    "        qscores.append(read.q)\n",
    "        errorProbs.append(read.errorProb)\n",
    "        calls.append(int(read.call=='A'))\n",
    "    all_calls.append(calls)   \n",
    "    all_qs.append(qscores) \n",
    "    all_errors.append(errorProbs)\n",
    "    qscores = Series(qscores)\n",
    "    hists.append(qscores.plot.hist)\n",
    "    print(qscores.describe())\n",
    "hists[0]();"
   ]
  },
  {
   "cell_type": "code",
   "execution_count": 3,
   "metadata": {},
   "outputs": [
    {
     "data": {
      "image/png": "[encoded data removed]",
      "text/plain": [
       "<Figure size 432x288 with 1 Axes>"
      ]
     },
     "metadata": {
      "needs_background": "light"
     },
     "output_type": "display_data"
    }
   ],
   "source": [
    "hists[1]();"
   ]
  },
  {
   "cell_type": "markdown",
   "metadata": {},
   "source": [
    "<h4>Question 1</h4>\n",
    "&nbsp; <p><b>a.</b></p>"
   ]
  },
  {
   "cell_type": "code",
   "execution_count": null,
   "metadata": {},
   "outputs": [],
   "source": []
  },
  {
   "cell_type": "markdown",
   "metadata": {},
   "source": [
    "&nbsp; <p><b>b. </b>Use the data from three diploids at https://dorman.stat.iastate.edu/files/genotyping.txt to compute the likelihood of the data in individual 0 at sites 962 and 964 assuming the reference base in both cases is $n_{b}$ = A. What are your maximum likelihood estimates $\\hat{G}_{MLE,962}$ and $\\hat{G}_{MLE,964}$ of the genotypes? (These data are unforgivingly huge, so you may want to do selective reading of the data in some smart way.)</p>"
   ]
  },
  {
   "cell_type": "code",
   "execution_count": 4,
   "metadata": {},
   "outputs": [],
   "source": [
    "with open('Q1_MLE.R', 'r') as fh: rtext = fh.read()\n",
    "rfuncts = STAP(rtext,\"\")"
   ]
  },
  {
   "cell_type": "code",
   "execution_count": 5,
   "metadata": {},
   "outputs": [],
   "source": [
    "%%R\n",
    "log.likelihood.d.g <- function(genotype, calls, ploidy, errorProbs, coverage){\n",
    "  -coverage*log(ploidy) +\n",
    "  sum(\n",
    "      log(\n",
    "          ifelse(  calls == 1, \n",
    "                   genotype * (1 - errorProbs) + (ploidy - genotype) * errorProbs/3, \n",
    "                   (1 - errorProbs) * (ploidy - genotype) + genotype * errorProbs + (2*errorProbs*(ploidy-genotype))/3 \n",
    "                 )\n",
    "          )\n",
    "      )\n",
    "}"
   ]
  },
  {
   "cell_type": "code",
   "execution_count": 6,
   "metadata": {},
   "outputs": [
    {
     "name": "stdout",
     "output_type": "stream",
     "text": [
      "Finding MLE:\n",
      "-6152.268491224305 1\n",
      "Finding MLE:\n",
      "-6160.344705015218 1\n"
     ]
    }
   ],
   "source": [
    "for pos in range(0,2):\n",
    "    print(\"Finding MLE:\")\n",
    "    calls = all_calls[pos]\n",
    "    errorProbs = all_errors[pos]\n",
    "    maxScore = None\n",
    "    G = None\n",
    "    for g in range(0,3):\n",
    "        L = rfuncts.log_likelihood_d_g(g,rArray(calls),2,rArray(errorProbs),len(calls))[0]\n",
    "        if not maxScore or maxScore < L: \n",
    "            maxScore=L\n",
    "            G=g\n",
    "    print (maxScore,G)"
   ]
  },
  {
   "cell_type": "markdown",
   "metadata": {},
   "source": [
    "$\\hat{G}_{MLE,962}$ = 1\n",
    "\n",
    "$\\hat{G}_{MLE,964}$ = 1"
   ]
  },
  {
   "cell_type": "markdown",
   "metadata": {},
   "source": [
    "&nbsp; <p><b>c. </b></p>"
   ]
  },
  {
   "cell_type": "code",
   "execution_count": 9,
   "metadata": {},
   "outputs": [],
   "source": [
    "%%R\n",
    "log.likelihood.MAP <- function(g, a, m, e, k){\n",
    "  -k*log(m) + log(0.5) +\n",
    "    sum(\n",
    "        log(\n",
    "            ifelse(  a == 1, \n",
    "                     g * (1 - e) + (m - g) * e/3, \n",
    "                     (1 - e) * (m - g) + g * e + (2*e*(m-g))/3\n",
    "                  )\n",
    "        )\n",
    "    )\n",
    "} > LogMap.r"
   ]
  },
  {
   "cell_type": "code",
   "execution_count": 10,
   "metadata": {},
   "outputs": [
    {
     "name": "stdout",
     "output_type": "stream",
     "text": [
      "Finding MAP:\n",
      "-6152.961638404865 1\n",
      "Finding MAP:\n",
      "-6161.037852195778 1\n"
     ]
    }
   ],
   "source": [
    "for pos in range(0,2):\n",
    "    print(\"Finding MAP:\")\n",
    "    calls = all_calls[pos]\n",
    "    errorProbs = all_errors[pos]\n",
    "    maxScore = None\n",
    "    G = None\n",
    "    for g in range(0,3):\n",
    "        L = rfuncts.log_likelihood_MAP(g,rArray(calls),2,rArray(errorProbs),len(calls))[0]\n",
    "        if not maxScore or maxScore < L: \n",
    "            maxScore=L\n",
    "            G=g\n",
    "    print (maxScore,G)"
   ]
  },
  {
   "cell_type": "code",
   "execution_count": 11,
   "metadata": {},
   "outputs": [
    {
     "name": "stdout",
     "output_type": "stream",
     "text": [
      "total 307K\n",
      "drwxr-s--- 4 dooleys1 germs   11 Feb 21 16:55 .\n",
      "drwxr-s--- 3 dooleys1 germs    5 Feb 21 12:03 ..\n",
      "-rw-r----- 1 dooleys1 germs 4.1K Feb 21 15:03 Assumptions.txt\n",
      "drwxr-s--- 2 dooleys1 germs 1.3K Feb 21 12:03 data\n",
      "-rw-r----- 1 dooleys1 germs 148K Feb 21 12:03 genotyping.pdf\n",
      "-rw-r----- 1 dooleys1 germs 2.4K Feb 21 15:03 hw1Copy.r\n",
      "-rw-r----- 1 dooleys1 germs  54K Feb 21 16:55 HW1.ipynb\n",
      "drwxr-s--- 2 dooleys1 germs    3 Feb 21 12:25 .ipynb_checkpoints\n",
      "-rw-r----- 1 dooleys1 germs 2.8K Feb 21 16:15 Q1_MLE.R\n",
      "-rw-r----- 1 dooleys1 germs 1.3K Feb 21 13:59 Q2_DPBinomial.R\n",
      "-rw-r----- 1 dooleys1 germs    0 Feb 21 13:59 Question2.txt\n"
     ]
    }
   ],
   "source": [
    "%%bash\n",
    "ls -alh"
   ]
  },
  {
   "cell_type": "code",
   "execution_count": 30,
   "metadata": {},
   "outputs": [
    {
     "name": "stdout",
     "output_type": "stream",
     "text": [
      "0.49999968218679913\n",
      "0.49999968218679913\n"
     ]
    }
   ],
   "source": [
    "for fileName in [\"data/Pos962_data.txt\",\"data/Pos964_data.txt\"]:\n",
    "    psi = rfuncts.estimate_psi(fileName)[0]\n",
    "    "
   ]
  },
  {
   "cell_type": "code",
   "execution_count": null,
   "metadata": {},
   "outputs": [],
   "source": [
    "count = 0\n",
    "for fhName in [\"data/Pos962_data.txt\",\"data/Pos964_data.txt\"]:\n",
    "    fh = open(fhName,\"w\")\n",
    "    fh.write(\"i\\tj\\tq\\ta\\n\")\n",
    "    nRead = 0\n",
    "    for read in positions[count]: \n",
    "        nRead +=1\n",
    "        fh.write(\"0\\t%i\\t%i\\t%i\\n\" % (nRead,read.q,int(read.call == 'A')))\n",
    "    fh.close()\n",
    "    count+=1\n",
    "    "
   ]
  },
  {
   "cell_type": "code",
   "execution_count": null,
   "metadata": {},
   "outputs": [],
   "source": [
    "%%bash\n",
    "head data/Pos962_data.txt\n",
    "echo\n",
    "head data/Pos964_data.txt"
   ]
  },
  {
   "cell_type": "code",
   "execution_count": null,
   "metadata": {},
   "outputs": [],
   "source": [
    "# Sort by call\n",
    "positions[0].sort(key=lambda x:x.call)\n",
    "positions[1].sort(key=lambda x:x.call)"
   ]
  },
  {
   "cell_type": "code",
   "execution_count": null,
   "metadata": {},
   "outputs": [],
   "source": [
    "for pos in positions:\n",
    "    counter = {}\n",
    "    for read in pos:\n",
    "        try:counter[read.call] +=1\n",
    "        except:counter[read.call] = 1\n",
    "    print counter"
   ]
  },
  {
   "cell_type": "markdown",
   "metadata": {},
   "source": [
    "<h4>Question 2</h4>\n",
    "&nbsp; <p><b>a.</b>Produce a space-separated text file with the individual in set{0,1,2}, the site in set{764,765,...,1199}, and the p-value for rejecting H0. For computing the p-value, use Monte Carlo sampling to estimate</p>"
   ]
  },
  {
   "cell_type": "markdown",
   "metadata": {},
   "source": [
    "#### Python Helper classes and functions"
   ]
  },
  {
   "cell_type": "code",
   "execution_count": 2,
   "metadata": {},
   "outputs": [],
   "source": [
    "from collections import Counter     \n",
    "class Locus:\n",
    "    def __init__(self,pos):\n",
    "        self.majorAllele = None\n",
    "        self.majorAlleleCount = -1\n",
    "        self.error_probs = {0:[],1:[],2:[]}\n",
    "        self.reads = {0:[],1:[],2:[]}\n",
    "        nuc_counter = {'A':0, 'C':0, 'G':0, 'T':0}\n",
    "        self.read_counter = {0:nuc_counter.copy(),    1:nuc_counter.copy(),    2:nuc_counter.copy()}\n",
    "        self.total_reads = {0:0,1:0,2:0}\n",
    "        \n",
    "    def __iter__(self):\n",
    "        for key in self.error_probs.keys():yield key\n",
    "            \n",
    "    def add(self,line,individual):\n",
    "        if line != \"\":\n",
    "            read = SeqRead(line)\n",
    "            self.read_counter[individual][read.call] += 1\n",
    "            self.reads[individual].append(read)\n",
    "            self.total_reads[individual] += 1\n",
    "\n",
    "    def calcMajorAllele(self):\n",
    "        totals = {}\n",
    "        for base in ['A','C','G','T']:\n",
    "            for i in range(0,3):\n",
    "                try: totals[base] += self.read_counter[i][base]\n",
    "                except: totals[base] = self.read_counter[i][base]\n",
    "        totals = Counter(totals)\n",
    "        self.majorAllele, self.majorAlleleCount = totals.most_common(1)[0]  \n",
    "        for ind in self:\n",
    "            for read in self.reads[ind]:\n",
    "                if read.call == self.majorAllele: read.q = 1-read.q\n",
    "                self.error_probs[ind].append(read.q)\n",
    "        \n",
    "def ProcessPosition(pos):\n",
    "    curLocus = Locus(pos)\n",
    "    i_0_file = \"data/Individual0_position%i.txt\" % pos\n",
    "    i_1_file = \"data/Individual1_position%i.txt\" % pos\n",
    "    i_2_file = \"data/Individual2_position%i.txt\" % pos\n",
    "    for line in open(i_0_file): curLocus.add(line,0)\n",
    "    for line in open(i_1_file): curLocus.add(line,1)\n",
    "    for line in open(i_2_file): curLocus.add(line,2)\n",
    "    curLocus.calcMajorAllele()\n",
    "    return curLocus        "
   ]
  },
  {
   "cell_type": "markdown",
   "metadata": {},
   "source": [
    "  #### R functions and R Coversion helper object"
   ]
  },
  {
   "cell_type": "code",
   "execution_count": 4,
   "metadata": {},
   "outputs": [],
   "source": [
    "from rpy2.robjects.packages import STAP\n",
    "from rpy2.robjects.vectors import FloatVector as rArray\n",
    "with open('Q2_DPBinomial.R', 'r') as fh: rtext = fh.read()\n",
    "rfuncts = STAP(rtext,\"\")"
   ]
  },
  {
   "cell_type": "code",
   "execution_count": null,
   "metadata": {},
   "outputs": [
    {
     "name": "stdout",
     "output_type": "stream",
     "text": [
      "764\n",
      "0 764 {'A': 1, 'C': 0, 'G': 6, 'T': 0}\n",
      "\t 0\t764\t1.00000000\t0.16062314\t275.27284524\t0.39656946\t1.00000000 0 10 / 10\n",
      "1 764 {'A': 1, 'C': 0, 'G': 2, 'T': 0}\n",
      "\t 1\t764\t1.00000000\t0.27067057\t424.39610096\t0.44444444\t1.00000000 1 10 / 10\n",
      "2 764 {'A': 0, 'C': 0, 'G': 0, 'T': 0}\n",
      "765\n",
      "0 765 {'A': 8831, 'C': 5, 'G': 9, 'T': 3}\n",
      "\t 0\t765\t1.00000000\t0.00424523\t5.74840575\t0.09637720\t0.99500000 0 10 / 10\n",
      "1 765 {'A': 11817, 'C': 4, 'G': 9, 'T': 5}\n",
      "\t 1\t765\t1.00000000\t0.00366989\t4.90407580\t0.09366846\t0.99460000 1 10 / 10\n",
      "2 765 {'A': 0, 'C': 0, 'G': 0, 'T': 0}\n",
      "766\n",
      "0 766 {'A': 8, 'C': 1, 'G': 8853, 'T': 1}\n",
      "\t 0\t766\t1.00000000\t0.00423995\t5.71087098\t0.12518053\t0.99560000 0 10 / 10\n",
      "1 766 {'A': 10, 'C': 2, 'G': 11848, 'T': 1}\n",
      "\t 1\t766\t1.00000000\t0.00366509\t4.93839718\t0.10999994\t0.99470000 1 10 / 10\n",
      "2 766 {'A': 0, 'C': 0, 'G': 0, 'T': 0}\n",
      "767\n",
      "0 767 {'A': 8851, 'C': 9, 'G': 9, 'T': 1}\n",
      "\t 0\t767\t1.00000000\t0.00424043\t5.91832822\t0.09122084\t0.99510000 0 10 / 10\n",
      "1 767 {'A': 11839, 'C': 9, 'G': 15, 'T': 5}\n",
      "\t 1\t767\t1.00000000\t0.00366648\t4.87932443\t0.07395952\t0.99270000 1 10 / 10\n",
      "2 767 {'A': 0, 'C': 0, 'G': 0, 'T': 0}\n",
      "768\n",
      "0 768 {'A': 2, 'C': 2, 'G': 8869, 'T': 2}\n",
      "\t 0\t768\t1.00000000\t0.00423612\t5.80308519\t0.16067718\t0.99480000 0 10 / 10\n",
      "1 768 {'A': 6, 'C': 2, 'G': 11858, 'T': 5}\n",
      "\t 1\t768\t1.00000000\t0.00366354\t5.01191999\t0.10999990\t0.99460000 1 10 / 10\n",
      "2 768 {'A': 0, 'C': 0, 'G': 0, 'T': 0}\n",
      "769\n",
      "0 769 {'A': 12, 'C': 8853, 'G': 0, 'T': 7}\n",
      "\t 0\t769\t1.00000000\t0.00423995\t5.08592643\t0.09122078\t0.99270000 0 10 / 10\n",
      "1 769 {'A': 7, 'C': 11841, 'G': 1, 'T': 15}\n",
      "\t 1\t769\t1.00000000\t0.00366617\t4.36172433\t0.08296473\t0.99290000 1 10 / 10\n",
      "2 769 {'A': 0, 'C': 0, 'G': 0, 'T': 0}\n",
      "770\n",
      "0 770 {'A': 8, 'C': 8865, 'G': 0, 'T': 7}\n",
      "\t 0\t770\t1.00000000\t0.00423708\t6.65045469\t0.10252245\t0.99570000 0 10 / 10\n",
      "1 770 {'A': 3, 'C': 11860, 'G': 1, 'T': 9}\n",
      "\t 1\t770\t1.00000000\t0.00366323\t5.80707503\t0.10999996\t0.99540000 1 10 / 10\n",
      "2 770 {'A': 0, 'C': 0, 'G': 0, 'T': 0}\n",
      "771\n",
      "0 771 {'A': 8860, 'C': 3, 'G': 9, 'T': 2}\n",
      "\t 0\t771\t1.00000000\t0.00423827\t6.86923716\t0.10607281\t0.99610000 0 10 / 10\n",
      "1 771 {'A': 11848, 'C': 2, 'G': 13, 'T': 1}\n",
      "\t 1\t771\t1.00000000\t0.00366509\t6.25668729\t0.09928445\t0.99460000 1 10 / 10\n",
      "2 771 {'A': 0, 'C': 0, 'G': 0, 'T': 0}\n",
      "772\n",
      "0 772 {'A': 6, 'C': 8848, 'G': 0, 'T': 9}\n",
      "\t 0\t772\t1.00000000\t0.00424115\t6.31424786\t0.10252261\t0.99700000 0 10 / 10\n",
      "1 772 {'A': 8, 'C': 11837, 'G': 0, 'T': 9}\n",
      "\t 1\t772\t1.00000000\t0.00366679\t5.41256318\t0.09635367\t0.99460000 1 10 / 10\n",
      "2 772 {'A': 0, 'C': 0, 'G': 0, 'T': 0}\n",
      "773\n",
      "0 773 {'A': 5, 'C': 8859, 'G': 1, 'T': 15}\n",
      "\t 0\t773\t1.00000000\t0.00423851\t6.30874193\t0.08681427\t0.99520000 0 10 / 10\n",
      "1 773 {'A': 5, 'C': 11860, 'G': 0, 'T': 10}\n",
      "\t 1\t773\t1.00000000\t0.00366323\t5.58157867\t0.10250054\t0.99500000 1 10 / 10\n",
      "2 773 {'A': 0, 'C': 0, 'G': 0, 'T': 0}\n",
      "774\n",
      "0 774 {'A': 3, 'C': 9, 'G': 1, 'T': 8835}\n",
      "\t 0\t774\t1.00000000\t0.00424427\t5.83669903\t0.11002058\t0.99450000 0 10 / 10\n",
      "1 774 {'A': 4, 'C': 10, 'G': 1, 'T': 11830}\n",
      "\t 1\t774\t1.00000000\t0.00366788\t5.16518311\t0.10250067\t0.99440000 1 10 / 10\n",
      "2 774 {'A': 0, 'C': 0, 'G': 0, 'T': 0}\n",
      "775\n",
      "0 775 {'A': 3, 'C': 9, 'G': 7, 'T': 8855}\n",
      "\t 0\t775\t1.00000000\t0.00423947\t5.28973944\t0.09122077\t0.99440000 0 10 / 10\n",
      "1 775 {'A': 5, 'C': 7, 'G': 5, 'T': 11854}\n",
      "\t 1\t775\t1.00000000\t0.00366416\t4.70577359\t0.09635351\t0.99170000 1 10 / 10\n",
      "2 775 {'A': 0, 'C': 0, 'G': 0, 'T': 0}\n",
      "776\n",
      "0 776 {'A': 8852, 'C': 8, 'G': 4, 'T': 0}\n",
      "\t 0\t776\t1.00000000\t0.00424019\t6.63204599\t0.11444535\t0.99670000 0 10 / 10\n",
      "1 776 {'A': 11850, 'C': 9, 'G': 2, 'T': 0}\n",
      "\t 1\t776\t1.00000000\t0.00366478\t5.60587197\t0.11943333\t0.99510000 1 10 / 10\n",
      "2 776 {'A': 0, 'C': 0, 'G': 0, 'T': 0}\n",
      "777\n",
      "0 777 {'A': 1, 'C': 3, 'G': 8855, 'T': 7}\n",
      "\t 0\t777\t1.00000000\t0.00423947\t4.95389119\t0.11945197\t0.99350000 0 10 / 10\n",
      "1 777 {'A': 7, 'C': 5, 'G': 11844, 'T': 8}\n",
      "\t 1\t777\t1.00000000\t0.00366571\t4.25455726\t0.08891013\t0.99170000 1 10 / 10\n",
      "2 777 {'A': 0, 'C': 0, 'G': 0, 'T': 0}\n",
      "778\n",
      "0 778 {'A': 2, 'C': 8845, 'G': 0, 'T': 12}\n",
      "\t 0\t778\t1.00000000\t0.00424187\t5.05641271\t0.10607285\t0.99480000 0 10 / 10\n",
      "1 778 {'A': 4, 'C': 11823, 'G': 2, 'T': 21}\n",
      "\t 1\t778\t1.00000000\t0.00366896\t4.47420716\t0.07662715\t0.99370000 1 10 / 10\n",
      "2 778 {'A': 0, 'C': 0, 'G': 0, 'T': 0}\n",
      "779\n",
      "0 779 {'A': 10, 'C': 8863, 'G': 1, 'T': 6}\n",
      "\t 0\t779\t1.00000000\t0.00423756\t5.62396836\t0.09637686\t0.99380000 0 10 / 10\n",
      "1 779 {'A': 18, 'C': 11853, 'G': 0, 'T': 8}\n",
      "\t 1\t779\t1.00000000\t0.00366432\t4.93668410\t0.07807410\t0.99180000 1 10 / 10\n",
      "2 779 {'A': 0, 'C': 0, 'G': 0, 'T': 0}\n",
      "780\n",
      "0 780 {'A': 0, 'C': 22, 'G': 0, 'T': 8850}\n",
      "\t 0\t780\t1.00000000\t0.00424067\t6.88084111\t0.08483846\t0.99630000 0 10 / 10\n",
      "1 780 {'A': 1, 'C': 11, 'G': 0, 'T': 11860}\n",
      "\t 1\t780\t1.00000000\t0.00366323\t5.97940282\t0.11442567\t0.99500000 1 10 / 10\n",
      "2 780 {'A': 0, 'C': 0, 'G': 0, 'T': 0}\n",
      "781\n",
      "0 781 {'A': 6, 'C': 8835, 'G': 0, 'T': 15}\n",
      "\t 0\t781\t1.00000000\t0.00424427\t6.73837173\t0.08681456\t0.99610000 0 10 / 10\n",
      "1 781 {'A': 0, 'C': 11829, 'G': 2, 'T': 11}\n",
      "\t 1\t781\t1.00000000\t0.00366803\t5.94961387\t0.11000013\t0.99530000 1 10 / 10\n",
      "2 781 {'A': 0, 'C': 0, 'G': 0, 'T': 0}\n",
      "782\n",
      "0 782 {'A': 3, 'C': 8868, 'G': 2, 'T': 8}\n",
      "\t 0\t782\t1.00000000\t0.00423636\t6.05882829\t0.11002029\t0.99570000 0 10 / 10\n",
      "1 782 {'A': 8, 'C': 11861, 'G': 0, 'T': 12}\n",
      "\t 1\t782\t1.00000000\t0.00366308\t5.42409605\t0.08891012\t0.99510000 1 10 / 10\n",
      "2 782 {'A': 0, 'C': 0, 'G': 0, 'T': 0}\n",
      "783\n",
      "0 783 {'A': 4, 'C': 38, 'G': 0, 'T': 8840}\n",
      "\t 0\t783\t1.00000000\t0.00424307\t6.33533765\t0.06158187\t0.99600000 0 10 / 10\n",
      "1 783 {'A': 6, 'C': 45, 'G': 1, 'T': 11829}\n",
      "\t 1\t783\t1.00000000\t0.00366803\t5.28278728\t0.05535601\t0.99510000 1 10 / 10\n",
      "2 783 {'A': 0, 'C': 0, 'G': 0, 'T': 0}\n",
      "784\n",
      "0 784 {'A': 3, 'C': 8866, 'G': 0, 'T': 13}\n",
      "\t 0\t784\t1.00000000\t0.00423684\t7.00108923\t0.09930699\t0.99760000 0 10 / 10\n",
      "1 784 {'A': 3, 'C': 11857, 'G': 1, 'T': 21}\n",
      "\t 1\t784\t1.00000000\t0.00366370\t6.10982962\t0.07960672\t0.99690000 1 10 / 10\n",
      "2 784 {'A': 0, 'C': 0, 'G': 0, 'T': 0}\n",
      "785\n",
      "0 785 {'A': 17, 'C': 0, 'G': 8831, 'T': 34}\n",
      "\t 0\t785\t1.00000000\t0.00424523\t6.16105644\t0.05593269\t0.99540000 0 10 / 10\n",
      "1 785 {'A': 22, 'C': 0, 'G': 11789, 'T': 71}\n",
      "\t 1\t785\t1.00000000\t0.00367425\t5.47850795\t0.04149403\t0.99460000 1 10 / 10\n",
      "2 785 {'A': 0, 'C': 0, 'G': 0, 'T': 0}\n",
      "786\n",
      "0 786 {'A': 11, 'C': 1, 'G': 8868, 'T': 2}\n",
      "\t 0\t786\t1.00000000\t0.00423636\t5.66227229\t0.10607269\t0.99570000 0 10 / 10\n",
      "1 786 {'A': 10, 'C': 4, 'G': 11864, 'T': 4}\n",
      "\t 1\t786\t1.00000000\t0.00366262\t4.72777596\t0.09366817\t0.99230000 1 10 / 10\n",
      "2 786 {'A': 0, 'C': 0, 'G': 0, 'T': 0}\n",
      "787\n",
      "0 787 {'A': 8, 'C': 8853, 'G': 0, 'T': 21}\n",
      "\t 0\t787\t1.00000000\t0.00423995\t4.91004673\t0.07398999\t0.99420000 0 10 / 10\n",
      "1 787 {'A': 7, 'C': 11860, 'G': 2, 'T': 13}\n",
      "\t 1\t787\t1.00000000\t0.00366323\t4.26772875\t0.08481165\t0.99080000 1 10 / 10\n",
      "2 787 {'A': 0, 'C': 0, 'G': 0, 'T': 0}\n",
      "788\n",
      "0 788 {'A': 8852, 'C': 2, 'G': 28, 'T': 0}\n",
      "\t 0\t788\t1.00000000\t0.00424019\t5.62342281\t0.07275747\t0.99490000 0 10 / 10\n",
      "1 788 {'A': 11831, 'C': 8, 'G': 37, 'T': 3}\n",
      "\t 1\t788\t1.00000000\t0.00366772\t5.20854341\t0.05759895\t0.99280000 1 10 / 10\n",
      "2 788 {'A': 0, 'C': 0, 'G': 0, 'T': 0}\n",
      "789\n",
      "0 789 {'A': 8853, 'C': 8, 'G': 15, 'T': 6}\n",
      "\t 0\t789\t1.00000000\t0.00423995\t5.62362056\t0.07399001\t0.99470000 0 10 / 10\n",
      "1 789 {'A': 11831, 'C': 12, 'G': 34, 'T': 5}\n",
      "\t 1\t789\t1.00000000\t0.00366772\t4.91889621\t0.05589194\t0.99170000 1 10 / 10\n",
      "2 789 {'A': 0, 'C': 0, 'G': 0, 'T': 0}\n",
      "790\n",
      "0 790 {'A': 9, 'C': 10, 'G': 8776, 'T': 87}\n",
      "\t 0\t790\t1.00000000\t0.00425851\t3.27355777\t0.03895134\t0.98420000 0 10 / 10\n",
      "1 790 {'A': 7, 'C': 10, 'G': 11755, 'T': 110}\n",
      "\t 1\t790\t1.00000000\t0.00367956\t2.86018939\t0.03556773\t0.98170000 1 10 / 10\n",
      "2 790 {'A': 0, 'C': 0, 'G': 0, 'T': 0}\n",
      "791\n",
      "0 791 {'A': 5, 'C': 8861, 'G': 1, 'T': 15}\n",
      "\t 0\t791\t1.00000000\t0.00423804\t5.02554726\t0.08681421\t0.99260000 0 10 / 10\n",
      "1 791 {'A': 7, 'C': 11858, 'G': 0, 'T': 17}\n",
      "\t 1\t791\t1.00000000\t0.00366354\t4.25023446\t0.08123346\t0.98980000 1 10 / 10\n",
      "2 791 {'A': 0, 'C': 0, 'G': 0, 'T': 0}\n",
      "792\n",
      "0 792 {'A': 8848, 'C': 3, 'G': 30, 'T': 1}\n",
      "\t 0\t792\t1.00000000\t0.00424115\t6.41506611\t0.06838155\t0.99580000 0 10 / 10\n",
      "1 792 {'A': 11848, 'C': 2, 'G': 29, 'T': 3}\n",
      "\t 1\t792\t1.00000000\t0.00366509\t5.63493550\t0.06834839\t0.99550000 1 10 / 10\n",
      "2 792 {'A': 0, 'C': 0, 'G': 0, 'T': 0}\n",
      "793\n",
      "0 793 {'A': 8842, 'C': 8, 'G': 31, 'T': 1}\n",
      "\t 0\t793\t1.00000000\t0.00424259\t6.56999183\t0.06308925\t0.99660000 0 10 / 10\n",
      "1 793 {'A': 11825, 'C': 4, 'G': 48, 'T': 5}\n",
      "\t 1\t793\t1.00000000\t0.00366865\t5.92353000\t0.05289101\t0.99510000 1 10 / 10\n",
      "2 793 {'A': 0, 'C': 0, 'G': 0, 'T': 0}\n",
      "794\n",
      "0 794 {'A': 9, 'C': 8857, 'G': 0, 'T': 16}\n",
      "\t 0\t794\t1.00000000\t0.00423899\t5.85385700\t0.07963507\t0.99610000 0 10 / 10\n",
      "1 794 {'A': 8, 'C': 11861, 'G': 2, 'T': 11}\n",
      "\t 1\t794\t1.00000000\t0.00366308\t4.85268153\t0.08678823\t0.99480000 1 10 / 10\n",
      "2 794 {'A': 0, 'C': 0, 'G': 0, 'T': 0}\n",
      "795\n",
      "0 795 {'A': 8857, 'C': 7, 'G': 14, 'T': 4}\n",
      "\t 0\t795\t1.00000000\t0.00423899\t6.74402137\t0.07963508\t0.99670000 0 10 / 10\n",
      "1 795 {'A': 11841, 'C': 5, 'G': 32, 'T': 4}\n",
      "\t 1\t795\t1.00000000\t0.00366617\t5.64422724\t0.06228535\t0.99420000 1 10 / 10\n",
      "2 795 {'A': 0, 'C': 0, 'G': 0, 'T': 0}\n",
      "796\n",
      "0 796 {'A': 4, 'C': 8867, 'G': 1, 'T': 10}\n",
      "\t 0\t796\t1.00000000\t0.00423660\t6.53548489\t0.10252243\t0.99620000 0 10 / 10\n",
      "1 796 {'A': 5, 'C': 11865, 'G': 1, 'T': 11}\n",
      "\t 1\t796\t1.00000000\t0.00366246\t5.65598889\t0.09635351\t0.99490000 1 10 / 10\n",
      "2 796 {'A': 0, 'C': 0, 'G': 0, 'T': 0}\n",
      "797\n",
      "0 797 {'A': 8, 'C': 8863, 'G': 1, 'T': 10}\n",
      "\t 0\t797\t1.00000000\t0.00423756\t5.38381654\t0.09122068\t0.99530000 0 10 / 10\n",
      "1 797 {'A': 8, 'C': 11854, 'G': 4, 'T': 16}\n",
      "\t 1\t797\t1.00000000\t0.00366416\t4.62545094\t0.07525762\t0.99260000 1 10 / 10\n",
      "2 797 {'A': 0, 'C': 0, 'G': 0, 'T': 0}\n",
      "798\n",
      "0 798 {'A': 14, 'C': 2, 'G': 8862, 'T': 4}\n",
      "\t 0\t798\t1.00000000\t0.00423780\t5.25160229\t0.08893543\t0.99380000 0 10 / 10\n",
      "1 798 {'A': 18, 'C': 1, 'G': 11853, 'T': 9}\n",
      "\t 1\t798\t1.00000000\t0.00366432\t4.64608007\t0.07525763\t0.99300000 1 10 / 10\n",
      "2 798 {'A': 0, 'C': 0, 'G': 0, 'T': 0}\n",
      "799\n",
      "0 799 {'A': 16, 'C': 8857, 'G': 1, 'T': 8}\n",
      "\t 0\t799\t1.00000000\t0.00423899\t4.79999417\t0.07963504\t0.99270000 0 10 / 10\n",
      "1 799 {'A': 12, 'C': 11845, 'G': 2, 'T': 23}\n",
      "\t 1\t799\t1.00000000\t0.00366555\t4.28670848\t0.06554023\t0.99020000 1 10 / 10\n",
      "2 799 {'A': 0, 'C': 0, 'G': 0, 'T': 0}\n",
      "800\n",
      "0 800 {'A': 8840, 'C': 10, 'G': 28, 'T': 3}\n",
      "\t 0\t800\t1.00000000\t0.00424307\t4.92539337\t0.06232181\t0.99350000 0 10 / 10\n",
      "1 800 {'A': 11822, 'C': 15, 'G': 40, 'T': 5}\n",
      "\t 1\t800\t1.00000000\t0.00366912\t4.19035696\t0.05156206\t0.98970000 1 10 / 10\n",
      "2 800 {'A': 0, 'C': 0, 'G': 0, 'T': 0}\n",
      "801\n",
      "0 801 {'A': 3, 'C': 42, 'G': 0, 'T': 8836}\n",
      "\t 0\t801\t1.00000000\t0.00424403\t5.05110860\t0.05951172\t0.99470000 0 10 / 10\n",
      "1 801 {'A': 5, 'C': 57, 'G': 0, 'T': 11816}\n",
      "\t 1\t801\t1.00000000\t0.00367005\t4.28557466\t0.05073021\t0.99130000 1 10 / 10\n",
      "2 801 {'A': 0, 'C': 0, 'G': 0, 'T': 0}\n",
      "802\n",
      "0 802 {'A': 4, 'C': 37, 'G': 2, 'T': 8839}\n",
      "\t 0\t802\t1.00000000\t0.00424331\t4.71404541\t0.06086782\t0.99290000 0 10 / 10\n",
      "1 802 {'A': 5, 'C': 45, 'G': 0, 'T': 11832}\n",
      "\t 1\t802\t1.00000000\t0.00366757\t4.06337014\t0.05644384\t0.99110000 1 10 / 10\n",
      "2 802 {'A': 0, 'C': 0, 'G': 0, 'T': 0}\n",
      "803\n",
      "0 803 {'A': 14, 'C': 8858, 'G': 2, 'T': 8}\n",
      "\t 0\t803\t1.00000000\t0.00423875\t6.85232686\t0.08126135\t0.99690000 0 10 / 10\n",
      "1 803 {'A': 9, 'C': 11857, 'G': 2, 'T': 14}\n",
      "\t 1\t803\t1.00000000\t0.00366370\t5.85121594\t0.07960671\t0.99550000 1 10 / 10\n",
      "2 803 {'A': 0, 'C': 0, 'G': 0, 'T': 0}\n",
      "804\n",
      "0 804 {'A': 8848, 'C': 14, 'G': 18, 'T': 1}\n",
      "\t 0\t804\t1.00000000\t0.00424115\t6.53838990\t0.06940084\t0.99580000 0 10 / 10\n",
      "1 804 {'A': 11828, 'C': 17, 'G': 33, 'T': 4}\n",
      "\t 1\t804\t1.00000000\t0.00366819\t6.00092519\t0.05432904\t0.99580000 1 10 / 10\n",
      "2 804 {'A': 0, 'C': 0, 'G': 0, 'T': 0}\n",
      "805\n",
      "0 805 {'A': 3, 'C': 26, 'G': 0, 'T': 8853}\n",
      "\t 0\t805\t1.00000000\t0.00423995\t7.54417860\t0.07399003\t0.99660000 0 10 / 10\n",
      "1 805 {'A': 3, 'C': 39, 'G': 0, 'T': 11840}\n",
      "\t 1\t805\t1.00000000\t0.00366633\t6.48808648\t0.06154497\t0.99600000 1 10 / 10\n",
      "2 805 {'A': 0, 'C': 0, 'G': 0, 'T': 0}\n",
      "806\n",
      "0 806 {'A': 8, 'C': 8868, 'G': 1, 'T': 5}\n",
      "\t 0\t806\t1.00000000\t0.00423636\t7.51613063\t0.10607275\t0.99640000 0 10 / 10\n",
      "1 806 {'A': 5, 'C': 11862, 'G': 0, 'T': 15}\n",
      "\t 1\t806\t1.00000000\t0.00366293\t6.83053552\t0.08891015\t0.99700000 1 10 / 10\n",
      "2 806 {'A': 0, 'C': 0, 'G': 0, 'T': 0}\n",
      "807\n",
      "0 807 {'A': 0, 'C': 29, 'G': 1, 'T': 8852}\n",
      "\t 0\t807\t1.00000000\t0.00424019\t8.80963014\t0.07275750\t0.99750000 0 10 / 10\n",
      "1 807 {'A': 5, 'C': 49, 'G': 3, 'T': 11825}\n",
      "\t 1\t807\t1.00000000\t0.00366865\t7.39973797\t0.05289101\t0.99660000 1 10 / 10\n",
      "2 807 {'A': 0, 'C': 0, 'G': 0, 'T': 0}\n",
      "808\n",
      "0 808 {'A': 6, 'C': 25, 'G': 0, 'T': 8851}\n",
      "\t 0\t808\t1.00000000\t0.00424043\t8.52372684\t0.07158483\t0.99830000 0 10 / 10\n",
      "1 808 {'A': 5, 'C': 39, 'G': 2, 'T': 11836}\n",
      "\t 1\t808\t1.00000000\t0.00366695\t6.75877954\t0.05882835\t0.99640000 1 10 / 10\n",
      "2 808 {'A': 0, 'C': 0, 'G': 0, 'T': 0}\n",
      "809\n",
      "0 809 {'A': 4, 'C': 8877, 'G': 0, 'T': 2}\n",
      "\t 0\t809\t1.00000000\t0.00423421\t7.77483674\t0.16067736\t0.99590000 0 10 / 10\n",
      "1 809 {'A': 2, 'C': 11870, 'G': 0, 'T': 11}\n",
      "\t 1\t809\t1.00000000\t0.00366169\t9.76379450\t0.11000000\t0.99830000 1 10 / 10\n",
      "2 809 {'A': 0, 'C': 0, 'G': 0, 'T': 0}\n",
      "810\n",
      "0 810 {'A': 7, 'C': 25, 'G': 8, 'T': 8844}\n",
      "\t 0\t810\t1.00000000\t0.00424211\t3.44028444\t0.06308912\t0.98640000 0 10 / 10\n",
      "1 810 {'A': 4, 'C': 22, 'G': 8, 'T': 11849}\n",
      "\t 1\t810\t1.00000000\t0.00366493\t2.83830353\t0.06834813\t0.97890000 1 10 / 10\n",
      "2 810 {'A': 0, 'C': 0, 'G': 0, 'T': 0}\n",
      "811\n",
      "0 811 {'A': 8, 'C': 2, 'G': 8871, 'T': 3}\n",
      "\t 0\t811\t1.00000000\t0.00423565\t3.84034425\t0.11002002\t0.98980000 0 10 / 10\n",
      "1 811 {'A': 10, 'C': 4, 'G': 11859, 'T': 10}\n",
      "\t 1\t811\t1.00000000\t0.00366339\t3.23517865\t0.08123336\t0.98440000 1 10 / 10\n",
      "2 811 {'A': 0, 'C': 0, 'G': 0, 'T': 0}\n",
      "812\n",
      "0 812 {'A': 3, 'C': 8874, 'G': 1, 'T': 6}\n",
      "\t 0\t812\t1.00000000\t0.00423493\t7.95959752\t0.12518050\t0.99810000 0 10 / 10\n",
      "1 812 {'A': 8, 'C': 11866, 'G': 1, 'T': 8}\n",
      "\t 1\t812\t1.00000000\t0.00366231\t6.65043010\t0.09635357\t0.99680000 1 10 / 10\n",
      "2 812 {'A': 0, 'C': 0, 'G': 0, 'T': 0}\n",
      "813\n",
      "0 813 {'A': 15, 'C': 38, 'G': 13, 'T': 8817}\n",
      "\t 0\t813\t1.00000000\t0.00424860\t2.23882829\t0.04922747\t0.97180000 0 10 / 10\n",
      "1 813 {'A': 14, 'C': 37, 'G': 8, 'T': 11824}\n",
      "\t 1\t813\t1.00000000\t0.00366881\t1.96381035\t0.05199325\t0.95870000 1 10 / 10\n",
      "2 813 {'A': 0, 'C': 0, 'G': 0, 'T': 0}\n",
      "814\n",
      "0 814 {'A': 2, 'C': 8868, 'G': 0, 'T': 13}\n",
      "\t 0\t814\t1.00000000\t0.00423636\t9.39830952\t0.10252246\t0.99820000 0 10 / 10\n",
      "1 814 {'A': 6, 'C': 11866, 'G': 3, 'T': 7}\n",
      "\t 1\t814\t1.00000000\t0.00366231\t8.32342240\t0.09928440\t0.99810000 1 10 / 10\n",
      "2 814 {'A': 0, 'C': 0, 'G': 0, 'T': 0}\n",
      "815\n",
      "0 815 {'A': 3, 'C': 8861, 'G': 0, 'T': 20}\n",
      "\t 0\t815\t1.00000000\t0.00423804\t6.38489322\t0.08299187\t0.99660000 0 10 / 10\n",
      "1 815 {'A': 6, 'C': 11853, 'G': 1, 'T': 23}\n",
      "\t 1\t815\t1.00000000\t0.00366432\t6.37836956\t0.07272638\t0.99670000 1 10 / 10\n",
      "2 815 {'A': 0, 'C': 0, 'G': 0, 'T': 0}\n",
      "816\n",
      "0 816 {'A': 17, 'C': 8, 'G': 8848, 'T': 12}\n",
      "\t 0\t816\t1.00000000\t0.00424115\t3.63205121\t0.06557484\t0.98780000 0 10 / 10\n",
      "1 816 {'A': 36, 'C': 12, 'G': 11826, 'T': 9}\n",
      "\t 1\t816\t1.00000000\t0.00366850\t3.14722571\t0.05289100\t0.98590000 1 10 / 10\n",
      "2 816 {'A': 0, 'C': 0, 'G': 0, 'T': 0}\n",
      "817\n",
      "0 817 {'A': 8, 'C': 8869, 'G': 1, 'T': 7}\n",
      "\t 0\t817\t1.00000000\t0.00423612\t5.46194902\t0.09930699\t0.99460000 0 10 / 10\n",
      "1 817 {'A': 10, 'C': 11860, 'G': 2, 'T': 12}\n",
      "\t 1\t817\t1.00000000\t0.00366323\t4.80325910\t0.08123357\t0.99210000 1 10 / 10\n",
      "2 817 {'A': 0, 'C': 0, 'G': 0, 'T': 0}\n",
      "818\n",
      "0 818 {'A': 8861, 'C': 1, 'G': 20, 'T': 0}\n",
      "\t 0\t818\t1.00000000\t0.00423804\t5.86366760\t0.08681425\t0.99580000 0 10 / 10\n",
      "1 818 {'A': 11839, 'C': 1, 'G': 35, 'T': 6}\n",
      "\t 1\t818\t1.00000000\t0.00366648\t4.15088140\t0.06154494\t0.99080000 1 10 / 10\n",
      "2 818 {'A': 0, 'C': 0, 'G': 0, 'T': 0}\n",
      "819\n",
      "0 819 {'A': 8851, 'C': 2, 'G': 27, 'T': 5}\n",
      "\t 0\t819\t1.00000000\t0.00424043\t4.66417772\t0.06838148\t0.99270000 0 10 / 10\n",
      "1 819 {'A': 11839, 'C': 8, 'G': 36, 'T': 1}\n",
      "\t 1\t819\t1.00000000\t0.00366648\t3.66847581\t0.05947344\t0.98840000 1 10 / 10\n",
      "2 819 {'A': 0, 'C': 0, 'G': 0, 'T': 0}\n",
      "820\n",
      "0 820 {'A': 8841, 'C': 4, 'G': 38, 'T': 2}\n",
      "\t 0\t820\t1.00000000\t0.00424283\t4.47195702\t0.06017818\t0.99220000 0 10 / 10\n",
      "1 820 {'A': 11782, 'C': 12, 'G': 83, 'T': 7}\n",
      "\t 1\t820\t1.00000000\t0.00367534\t3.28905627\t0.03963938\t0.98610000 1 10 / 10\n",
      "2 820 {'A': 0, 'C': 0, 'G': 0, 'T': 0}\n",
      "821\n",
      "0 821 {'A': 4, 'C': 0, 'G': 8879, 'T': 2}\n"
     ]
    }
   ],
   "source": [
    "from scipy.stats import bernoulli\n",
    "rbern=bernoulli.rvs \n",
    "\n",
    "nsims = 10\n",
    "output = open(\"Question2.txt\",\"w\")\n",
    "output.write(\"Individual Pos MC-PVal PA-Pval NA-PVal BA-PVal MCBN-PVal\\n\")\n",
    "data=None\n",
    "failed, totalRuns = 0, 0\n",
    "for pos in range(764,865):\n",
    "    print(pos)\n",
    "    data = ProcessPosition(pos)\n",
    "    for individual in data:\n",
    "        print(individual,pos,data.read_counter[individual],)\n",
    "        if data.total_reads[individual] == 0: #if there are no reads for that individual at that position\n",
    "            output.write(\"%i %i %0.4f %0.4f %0.4f %0.4f %0.4f\\n\" % (individual,pos,0.0,0.0,0.0,0.0,0.0))\n",
    "            continue\n",
    "        successfulTrials = 0\n",
    "        refAllele = data.majorAllele\n",
    "        for sim in range(nsims):\n",
    "            numMatchesRef = 0\n",
    "            for read in data.reads[individual]:\n",
    "                #randomDraw = bern random (1-eij,1)\n",
    "                rdraw = rbern(1 - read.errorProb, size=1)[0]\n",
    "                numMatchesRef += rdraw\n",
    "            if numMatchesRef <= data.read_counter[individual][refAllele]: successfulTrials+=1\n",
    "            else: failed+=1\n",
    "            totalRuns+=1\n",
    "        MC_PVal   = successfulTrials/float(nsims)\n",
    "        PA_Pval   = rfuncts.dpbinom(data.read_counter[individual][refAllele],rArray(data.error_probs[individual]),method=\"PA\")[0]\n",
    "        NA_PVal   = rfuncts.dpbinom(data.read_counter[individual][refAllele],rArray(data.error_probs[individual]),method=\"NA\")[0]\n",
    "        BA_PVal   = rfuncts.dpbinom(data.read_counter[individual][refAllele],rArray(data.error_probs[individual]),method=\"BA\")[0]\n",
    "        MCBN_PVal = rfuncts.dpbinom(data.read_counter[individual][refAllele],rArray(data.error_probs[individual]),method=\"MC\")[0]\n",
    "        outString = \"\\t\".join([str(individual),str(pos),\"%0.8f\" % MC_PVal,\"%0.8f\" % PA_Pval,\"%0.8f\" % NA_PVal,\"%0.8f\" % BA_PVal,\"%0.8f\" % MCBN_PVal])\n",
    "        print (\"\\t\",outString,individual,\"%i / %i\" %(successfulTrials,nsims))\n",
    "        outString+=\"\\t%.8f\" % (successfulTrials/float(nsims))\n",
    "        output.write(outString)\n",
    "        #output.write(\"%i %i %0.4f %0.4f %0.4f %0.4f %0.4f\\n\" % (individual,pos,MC_PVal,PA_Pval,NA_PVal,BA_PVal,MCBN_PVal))\n",
    "        \n",
    "output.close()   \n",
    "print(\"TEST\")"
   ]
  },
  {
   "cell_type": "code",
   "execution_count": null,
   "metadata": {},
   "outputs": [],
   "source": [
    "failed"
   ]
  },
  {
   "cell_type": "code",
   "execution_count": null,
   "metadata": {},
   "outputs": [],
   "source": [
    "%%bash\n",
    "cat HW1/Question2.txt"
   ]
  }
 ],
 "metadata": {
  "kernelspec": {
   "display_name": "Python 3",
   "language": "python",
   "name": "python3"
  },
  "language_info": {
   "codemirror_mode": {
    "name": "ipython",
    "version": 3
   },
   "file_extension": ".py",
   "mimetype": "text/x-python",
   "name": "python",
   "nbconvert_exporter": "python",
   "pygments_lexer": "ipython3",
   "version": "3.7.1"
  }
 },
 "nbformat": 4,
 "nbformat_minor": 2
}
