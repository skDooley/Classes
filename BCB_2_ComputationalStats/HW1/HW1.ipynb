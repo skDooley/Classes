{
 "cells": [
  {
   "cell_type": "code",
   "execution_count": 15,
   "metadata": {},
   "outputs": [],
   "source": [
    "%matplotlib inline\n",
    "from pandas import Series"
   ]
  },
  {
   "cell_type": "markdown",
   "metadata": {},
   "source": [
    "# 1a"
   ]
  },
  {
   "cell_type": "markdown",
   "metadata": {},
   "source": [
    "### 1b. Use the data from three diploids at https://dorman.stat.iastate.edu/files/genotyping.txt to compute the likelihood of the data in individual 0 at sites 962 and 964 assuming the reference base in both cases is $n_{b}$ = A. What are your maximum likelihood estimates $\\hat{G}_{MLE,962}$ and $\\hat{G}_{MLE,964}$ of the genotypes? (These data are unforgivingly huge, so you may want to do selective reading of the data in some smart way.)\n"
   ]
  },
  {
   "cell_type": "markdown",
   "metadata": {},
   "source": [
    "### Genotyping.txt\n",
    "\n",
    "<ol>\n",
    "    <li>Id of individual</li>\n",
    "    <li>Id of read</li>\n",
    "    <li>Reference position</li>\n",
    "    <li>Read base call</li>\n",
    "    <li>Read quality score</li>\n",
    "</ol>\n"
   ]
  },
  {
   "cell_type": "code",
   "execution_count": 11,
   "metadata": {},
   "outputs": [
    {
     "name": "stdout",
     "output_type": "stream",
     "text": [
      "Coverage for position 962:\n",
      "    8883 Individual0_position962.txt\n",
      "Coverage for position 964:\n",
      "    8886 Individual0_position964.txt\n",
      "\n",
      "0 0 962 A p\n",
      "0 1 962 A h\n",
      "0 2 962 A i\n",
      "0 3 962 A l\n",
      "0 4 962 G X\n",
      "0 5 962 G p\n",
      "0 6 962 G p\n",
      "0 7 962 A p\n",
      "0 8 962 A p\n",
      "0 9 962 G r\n"
     ]
    }
   ],
   "source": [
    "%%bash\n",
    "awk '($1==0 && $3==962 && $4!=\"NA\") {print $0}' genotyping.txt >Individual0_position962.txt # The first position we are asked to compute for individual 0\n",
    "awk '($1==0 && $3==964 && $4!=\"NA\") {print $0}' genotyping.txt >Individual0_position964.txt # The second position we are asked to compute for individual 0\n",
    "echo \"Coverage for position 962:\"; wc -l Individual0_position962.txt\n",
    "echo \"Coverage for position 964:\"; wc -l Individual0_position964.txt; echo\n",
    "head Individual0_position962.txt"
   ]
  },
  {
   "cell_type": "code",
   "execution_count": 50,
   "metadata": {},
   "outputs": [],
   "source": [
    "fh = open(\"Pos962_data.txt\",\"w\")\n",
    "fh.write(\"i\\tj\\tq\\ta\\n\")\n",
    "nRead = 0\n",
    "for read in positions[0]: \n",
    "    nRead +=1\n",
    "    fh.write(\"0\\t%i\\t%i\\t%i\\n\" % (nRead,read.q,int(read.call == 'A')))\n",
    "fh.close()\n",
    "    "
   ]
  },
  {
   "cell_type": "code",
   "execution_count": 51,
   "metadata": {},
   "outputs": [
    {
     "name": "stdout",
     "output_type": "stream",
     "text": [
      "i\tj\tq\ta\n",
      "0\t1\t112\t1\n",
      "0\t2\t104\t1\n",
      "0\t3\t105\t1\n",
      "0\t4\t108\t1\n",
      "0\t5\t112\t1\n",
      "0\t6\t112\t1\n",
      "0\t7\t113\t1\n",
      "0\t8\t108\t1\n",
      "0\t9\t104\t1\n"
     ]
    }
   ],
   "source": [
    "%%bash\n",
    "head Pos962_data.txt"
   ]
  },
  {
   "cell_type": "code",
   "execution_count": 12,
   "metadata": {},
   "outputs": [],
   "source": [
    "class SeqRead:\n",
    "    def __init__(self,data):\n",
    "        rec = data.strip().split()\n",
    "        self.q = ord(rec[4])\n",
    "        self.call = rec[3]"
   ]
  },
  {
   "cell_type": "code",
   "execution_count": 13,
   "metadata": {},
   "outputs": [],
   "source": [
    "pos962,pos964 = [],[]\n",
    "for line in open(\"Individual0_position962.txt\"): pos962.append(SeqRead(line))\n",
    "for line in open(\"Individual0_position964.txt\"): pos964.append(SeqRead(line))"
   ]
  },
  {
   "cell_type": "code",
   "execution_count": 16,
   "metadata": {},
   "outputs": [
    {
     "data": {
      "image/png": "[encoded data removed]",
      "text/plain": [
       "<Figure size 432x288 with 1 Axes>"
      ]
     },
     "metadata": {},
     "output_type": "display_data"
    }
   ],
   "source": [
    "from pandas import Series\n",
    "positions = [pos962,pos964]\n",
    "for pos in positions:\n",
    "    qscores = []\n",
    "    for read in pos:qscores.append(read.q)\n",
    "    qscores = Series(qscores)\n",
    "    qscores.plot.hist()"
   ]
  },
  {
   "cell_type": "code",
   "execution_count": 17,
   "metadata": {},
   "outputs": [
    {
     "name": "stdout",
     "output_type": "stream",
     "text": [
      "count    8886.000000\n",
      "mean      108.660027\n",
      "std         9.702624\n",
      "min        36.000000\n",
      "25%       110.000000\n",
      "50%       113.000000\n",
      "75%       113.000000\n",
      "max       114.000000\n",
      "dtype: float64\n"
     ]
    }
   ],
   "source": [
    "print qscores.describe()"
   ]
  },
  {
   "cell_type": "code",
   "execution_count": 22,
   "metadata": {},
   "outputs": [],
   "source": [
    "# Sort by call\n",
    "positions[0].sort(key=lambda x:x.call)\n",
    "positions[1].sort(key=lambda x:x.call)"
   ]
  },
  {
   "cell_type": "code",
   "execution_count": 28,
   "metadata": {},
   "outputs": [
    {
     "name": "stdout",
     "output_type": "stream",
     "text": [
      "{'A': 4044, 'C': 3, 'T': 9, 'G': 4827}\n",
      "{'A': 3742, 'C': 5135, 'T': 5, 'G': 4}\n"
     ]
    }
   ],
   "source": [
    "from collections import Counter\n",
    "\n",
    "for pos in positions:\n",
    "    counter = {}\n",
    "    for read in pos:\n",
    "        try:counter[read.call] +=1\n",
    "        except:counter[read.call] = 1\n",
    "    print counter"
   ]
  },
  {
   "cell_type": "code",
   "execution_count": 33,
   "metadata": {},
   "outputs": [
    {
     "name": "stderr",
     "output_type": "stream",
     "text": [
      "ERROR:root:Line magic function `%R` not found.\n"
     ]
    },
    {
     "ename": "NameError",
     "evalue": "name 'install' is not defined",
     "output_type": "error",
     "traceback": [
      "\u001b[0;31m---------------------------------------------------------------------------\u001b[0m",
      "\u001b[0;31mNameError\u001b[0m                                 Traceback (most recent call last)",
      "\u001b[0;32m<ipython-input-33-e2ab5fe1d0ca>\u001b[0m in \u001b[0;36m<module>\u001b[0;34m()\u001b[0m\n\u001b[1;32m      1\u001b[0m \u001b[0mget_ipython\u001b[0m\u001b[0;34m(\u001b[0m\u001b[0;34m)\u001b[0m\u001b[0;34m.\u001b[0m\u001b[0mmagic\u001b[0m\u001b[0;34m(\u001b[0m\u001b[0;34mu'R'\u001b[0m\u001b[0;34m)\u001b[0m\u001b[0;34m\u001b[0m\u001b[0m\n\u001b[0;32m----> 2\u001b[0;31m \u001b[0minstall\u001b[0m\u001b[0;34m.\u001b[0m\u001b[0mpackages\u001b[0m\u001b[0;34m(\u001b[0m\u001b[0;34m'dplyr'\u001b[0m\u001b[0;34m)\u001b[0m\u001b[0;34m\u001b[0m\u001b[0m\n\u001b[0m\u001b[1;32m      3\u001b[0m \u001b[0;31m#library(dplyr, quietly = T, warn.conflicts = F)\u001b[0m\u001b[0;34m\u001b[0m\u001b[0;34m\u001b[0m\u001b[0m\n\u001b[1;32m      4\u001b[0m \u001b[0;34m\u001b[0m\u001b[0m\n\u001b[1;32m      5\u001b[0m \u001b[0;31m#g - 1\u001b[0m\u001b[0;34m\u001b[0m\u001b[0;34m\u001b[0m\u001b[0m\n",
      "\u001b[0;31mNameError\u001b[0m: name 'install' is not defined"
     ]
    }
   ],
   "source": [
    "%R\n",
    "\n",
    "install.packages('dplyr')\n",
    "#library(dplyr, quietly = T, warn.conflicts = F)\n",
    "\n",
    "#g - 1\n",
    "#a - \n",
    "#m - diploid m=2\n",
    "#e - quality score\n",
    "#k - # of reference Alleles\n",
    "\n",
    "#L(D=d_i | G=g)\n",
    "log.likelihood.d.g <- function(g, a, m, e, k)\n",
    "{ \n",
    "    -k*log(m) +\n",
    "    sum( log(ifelse(a == 1,\n",
    "        (m - g) * e/3 + g * (1 - e), \n",
    "        (m - g) * (1 - e) + g * e/3 )))\n",
    "}"
   ]
  },
  {
   "cell_type": "code",
   "execution_count": null,
   "metadata": {},
   "outputs": [],
   "source": [
    "log.likelihood.G <- function(d, m=2)\n",
    "{ \n",
    "    do.call(rbind,\n",
    "        lapply(split(d, factor(d$i)), function(d_i){ \n",
    "            sapply(0:m, log.likelihood.d.g, a=d_i$a,\n",
    "            m=m, e=d_i$e, k=nrow(d_i))\n",
    "        })\n",
    "    )\n",
    "}\n"
   ]
  }
 ],
 "metadata": {
  "kernelspec": {
   "display_name": "Python 2",
   "language": "python",
   "name": "python2"
  },
  "language_info": {
   "codemirror_mode": {
    "name": "ipython",
    "version": 2
   },
   "file_extension": ".py",
   "mimetype": "text/x-python",
   "name": "python",
   "nbconvert_exporter": "python",
   "pygments_lexer": "ipython2",
   "version": "2.7.15"
  }
 },
 "nbformat": 4,
 "nbformat_minor": 2
}
