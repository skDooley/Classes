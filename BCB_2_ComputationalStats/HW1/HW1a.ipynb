{
 "cells": [
  {
   "cell_type": "code",
   "execution_count": 36,
   "metadata": {},
   "outputs": [
    {
     "data": {
      "text/latex": [
       "\\begin{align}\n",
       "\\end{align}"
      ],
      "text/plain": [
       "<IPython.core.display.Latex object>"
      ]
     },
     "metadata": {},
     "output_type": "display_data"
    }
   ],
   "source": [
    "%%latex\n",
    "\\begin{align}\n",
    "\\end{align}"
   ]
  },
  {
   "cell_type": "markdown",
   "metadata": {},
   "source": [
    "$m_i$: ploidy level for the $i^{th}$ individual\n",
    "\n",
    "$G_i \\in {\\{0,1,2,...,m_i\\}}$: genotype number of reference nucleotides\n",
    "\n",
    "$D_i = {\\{D_{i1}, D_{i2},...,D_{il_{i}}}\\}$: sequence data\n",
    "\n",
    "$Q_i = {\\{Q_{i1}, Q_{i2},...,Q_{il_{i}}}\\}$: quality scores\n",
    "\n",
    "$l_i$: coverage (number of sequences aligned) at a chosen genomic position\n",
    "\n",
    "$k$: reference alleles\n",
    "\n",
    "$l-k$: alleles not equal to the reference\n",
    "\n",
    "$Z_j = \\mathbb{1}{\\{D_j=b_r\\}}$: if the $j^{th}$ read matches the reference allele\n",
    "\n",
    "$b_r$: the reference allele\n",
    "\n",
    "$Z_1,Z_2,...,Z_l$: likelihood of the data\n",
    "\n",
    "$g$: given genotype\n",
    "\n",
    "${\\displaystyle \\sum_{j=1}^{l}Z_j =k}$: k reference alleles\n",
    "\n",
    "WLOG reorder the data so that the first $k$ reads match the reference alleles"
   ]
  },
  {
   "cell_type": "raw",
   "metadata": {},
   "source": []
  },
  {
   "cell_type": "markdown",
   "metadata": {},
   "source": [
    "$L(g|Z_1,Z_2,...,Z_l)$\n",
    "\n",
    "=$Pr(Z_1=z_1,Z_2=z_2,...,Z_l=z_l|G=g)$ (by definition of likelihood)\n",
    "\n",
    "=$\\frac{Pr(Z_1=z_1 \\cap Z_2=z_2 \\cap...\\cap Z_l=z_l\\cap G=g)}{Pr(G=g)}$ (by definition of Conditional Probability (CP))\n",
    "\n",
    "=$[\\frac{1}{Pr(G=g)}]Pr(Z_1=z_1)Pr(Z_2=z_2|Z_1=z_1)Pr(Z_3=z=_3|Z_1=z_1 \\cap Z_2=z_2) ... Pr(Z_l=z_l|Z_1=z_1 \\cap ... \\cap Z_{l-1}=z_{l-1})Pr(G=g|Z_1=z_1 \\cap ... \\cap Z_l=z_l)$ (and each Z_i is independent)\n",
    "\n",
    "\n",
    "$\\hspace{15mm} PrG=g)=Pr(G=g|Z_1=z_1 \\cap ... \\cap Z_l=z_l)$\n",
    "\n",
    "=<strike>[Pr(G=g)]$^{-1}$</strike>$Pr(Z_1=z_1)Pr(Z_2=z_2|Z_1=z_1)Pr(Z_3=z_3|Z_1=z_1 \\cap Z_2=z_2) ... Pr(Z_l=z_l|Z_1=z_1 \\cap ... \\cap Z_{l-1}=z_{l-1})$<strike>Pr(G=g)</strike> (Algebra)\n",
    "\n",
    "=$Pr(Z_1=z_1)Pr(Z_2=z_2)...Pr(Z_l=z_l)$ (WLOG reorder first $k$ reads match reference allele, last $l-k$ reads do not match)\n",
    "\n",
    "=$[Pr(Z_1=z_1)Pr(Z_2=z_2)...Pr(Z_k=z_k)]$ $\\cdot$ $[Pr(Z_{k+1}=z_{k+1})Pr(Z_l=z_l)]$ (WLOG)\n",
    "    \n",
    "=${\\displaystyle \\prod_{j=1}^{k} Pr(Z_j=1)}$ $\\cdot$ ${\\displaystyle \\prod_{j=k+1}^{l} Pr(Z_j=0)}$\n",
    "\n",
    "\n",
    "$Z_j= \\mathbb{1}\\{D_j=b_r\\}$"
   ]
  },
  {
   "cell_type": "raw",
   "metadata": {},
   "source": []
  },
  {
   "cell_type": "markdown",
   "metadata": {},
   "source": [
    "$Pr(Z_1=z_1)$\n",
    "\n",
    "=$Pr(Z_j=1|Q=q)$ (Since it is given we condition on quality scores)\n",
    "\n",
    "=$Pr((Z_j=1 \\cap B_j=b_r) \\cup (Z_j=1 \\cap B_j \\neq br)|Q=q) $ (LTP and $B_j$ = $b_r$ mutually exlusive to $B_j$ $\\neq$ $b_r$)\n",
    "\n",
    "=$Pr([(Z_j=1 \\cap B_j=b_r) \\cup (Z_j=1 \\cap B_j \\neq br)] \\cap Q=q) [Pr(Q=q)]^{-1}$ (by CP)\n",
    "\n",
    "=$Pr([(Z_j=1 \\cap B_j=b_r) \\cap Q=q] \\cup [(Z_j=1 \\cap B_j \\neq br) \\cap Q=q]) [Pr(Q=q)]^{-1}$ (by distributive law)\n",
    "\n",
    "=$[Pr(Z_j=1 \\cap B_j=b_r \\cap Q=q) + Pr(Z_j=1 \\cap B_j \\neq b_r \\cap Q=q) - Pr((Z_j=1 \\cap B_j=b_r \\cap Q=q) \\cap (Z_j=1 \\cap B_j \\neq b_r \\cap Q=q))][Pr(Q=q)]^{-1}$ (by commutative property and general addition rule)\n",
    "\n",
    "\n",
    "$\\hspace{15mm} - Pr((Z_j=1 \\cap B_j=b_r \\cap Q=q) \\cap (Z_j=1 \\cap B_j \\neq b_r \\cap Q=q))$ (commutative law)\n",
    "\n",
    "$\\hspace{25mm} Pr(Z_j=1 \\cap Z_j=1 \\cap Q=q \\cap Q=q \\cap B_j=b_r \\cap B_j \\neq b_r)$ (commutative law)\n",
    "\n",
    "$\\hspace{25mm} Pr(Z_j=1 \\cap Q=q \\cap B_j=b_r \\cap B_j \\neq b_r)$ (set alegbra)\n",
    "\n",
    "$\\hspace{35mm}$ where: null set $\\{\\emptyset\\} ={B_j=b_r \\cap B_j \\neq b_r}$\n",
    "\n",
    "$\\hspace{25mm} Pr(\\{\\emptyset\\})=0$\n",
    "\n",
    "=$[Pr(Z_j=1 \\cap B_j=b_r \\cap Q=q) + Pr(Z_j=1 \\cap B_j \\neq b_r \\cap Q=q) - 0]$ (algebra)\n",
    "\n",
    "\n",
    "=$[Pr(Q=q)]^{-1}Pr(Z_j=1|B_j=b_r \\cap Q=q)Pr(B_j=b_r \\cap Q=q) + Pr(Z_j=1|B_j \\neq b_r \\cap Q=q)Pr(B_j \\neq b_r \\cap Q=q)$ (by CP)\n",
    "\n",
    "=<strike>[Pr(Q=q)]$^{-1}$</strike>$[Pr(Z_j=1|B_j=b_r \\cap Q=q)Pr(B_j=b_r|Q=q)$<strike>Pr(Q=q)</strike> + $Pr(Z_j=1|B_j \\neq b_r \\cap Q=q)Pr(B_j \\neq b_r | Q=q)$<strike>Pr(Q=q)</strike>] (by CP)\n",
    "\n",
    "=$Pr(Z_j=1|B_j=br \\cap Q=q)Pr(B_j=b_r|Q=q) + Pr(Z_j=1|B_j \\neq b_r \\cap Q=q)Pr(B_j \\neq b_r|Q=q)$ (algebra)\n",
    "\n",
    "=$Pr(Z_j=1|B_j=br \\cap Q=q)Pr(B_j=b_r) + Pr(Z_j=1|B_j \\neq b_r \\cap Q=q)Pr(B_j \\neq b_r)$ (what chromosome the fragment came from is independent of quality score)\n",
    "\n",
    "$\\hspace{15mm} Pr(Z_j=1|B_j=br \\cap Q=q)Pr(B_j=b_r) = (1-e)\\frac{g}{m}$\n",
    "\n",
    "$\\hspace{15mm} Pr(Z_j=1|B_j \\neq b_r \\cap Q=q)Pr(B_j \\neq b_r) = \\frac{e}{m}\\frac{m-g}{m}$\n",
    "\n"
   ]
  },
  {
   "cell_type": "raw",
   "metadata": {},
   "source": []
  },
  {
   "cell_type": "markdown",
   "metadata": {},
   "source": [
    "$Z_j = \\mathbb{1}\\{D_j=b_r \\} = \\Bigg\\{{1: D_j=b_r; 0: D_j=b_n, D_j=b_1, D_j=b_2}$  \n",
    "\n",
    "$Z_j=0 \\implies R_j \\{b_n,b_1,b_2\\} \\implies R_j= (R_j=b_n \\cup R_j=b_1 \\cup R_j=b_2)$"
   ]
  },
  {
   "cell_type": "raw",
   "metadata": {},
   "source": []
  },
  {
   "cell_type": "markdown",
   "metadata": {},
   "source": [
    "$Pr(Z_j=0)$\n",
    "\n",
    "=$Pr(Z_j=0|Q=q)$ (Since it is given we condition on quality scores)\n",
    "\n",
    "=$Pr((Z_j=0 \\cap B_j=b_r) \\cup (Z_j=0 \\cap B_j \\neq br)|Q=q) $ (LTP and $B_j$ = $b_r$ mutually exlusive to $B_j$ $\\neq$ $b_r$)\n",
    "\n",
    "=$Pr([(Z_j=0 \\cap B_j=b_r) \\cup (Z_j=0 \\cap B_j \\neq br)] \\cap Q=q) [Pr(Q=q)]^{-1}$ (by CP)\n",
    "\n",
    "=$Pr([(Z_j=0 \\cap B_j=b_r) \\cap Q=q] \\cup [(Z_j=0 \\cap B_j \\neq br) \\cap Q=q]) [Pr(Q=q)]^{-1}$ (by distributive law)\n",
    "\n",
    "=$[Pr(Z_j=0 \\cap B_j=b_r \\cap Q=q) + Pr(Z_j=0 \\cap B_j \\neq b_r \\cap Q=q) - Pr((Z_j=0 \\cap B_j=b_r \\cap Q=q) \\cap (Z_j=0 \\cap B_j \\neq b_r \\cap Q=q))][Pr(Q=q)]^{-1}$ (by commutative property and general addition rule)\n",
    "\n",
    "\n",
    "$\\hspace{15mm} - Pr((Z_j=0 \\cap B_j=b_r \\cap Q=q) \\cap (Z_j=0 \\cap B_j \\neq b_r \\cap Q=q))$ (commutative law)\n",
    "\n",
    "$\\hspace{25mm} Pr(Z_j=0 \\cap Z_j=0 \\cap Q=q \\cap Q=q \\cap B_j=b_r \\cap B_j \\neq b_r)$ (commutative law)\n",
    "\n",
    "$\\hspace{25mm} Pr(Z_j=0 \\cap Q=q \\cap B_j=b_r \\cap B_j \\neq b_r)$ (set alegbra)\n",
    "\n",
    "$\\hspace{35mm}$ where: null set $\\{\\emptyset\\} ={B_j=b_r \\cap B_j \\neq b_r}$\n",
    "\n",
    "$\\hspace{25mm} Pr(\\{\\emptyset\\})=0$\n",
    "\n",
    "\n",
    "=$[Pr(Z_j=0 \\cap B_j=b_r \\cap Q=q) + Pr(Z_j=0 \\cap B_j \\neq b_r \\cap Q=q) - 0]$ (algebra)\n",
    "\n",
    "=$[Pr(Q=q)]^{-1}Pr(Z_j=0|B_j=b_r \\cap Q=q)Pr(B_j=b_r \\cap Q=q) + Pr(Z_j=0|B_j \\neq b_r \\cap Q=q)Pr(B_j \\neq b_r \\cap Q=q)$ (by CP)\n",
    "\n",
    "=<strike>[Pr(Q=q)]$^{-1}$</strike>$[Pr(Z_j=0|B_j=b_r \\cap Q=q)Pr(B_j=b_r|Q=q)$<strike>Pr(Q=q)</strike> + $Pr(Z_j=0|B_j \\neq b_r \\cap Q=q)Pr(B_j \\neq b_r | Q=q)$<strike>Pr(Q=q)</strike>] (by CP)\n",
    "\n",
    "=$Pr(Z_j=0|B_j=br \\cap Q=q)Pr(B_j=b_r|Q=q) + Pr(Z_j=0|B_j \\neq b_r \\cap Q=q)Pr(B_j \\neq b_r|Q=q)$ (algebra)\n",
    "\n",
    "=$Pr(Z_j=0|B_j=br \\cap Q=q)Pr(B_j=b_r) + Pr(Z_j=0|B_j \\neq b_r \\cap Q=q)Pr(B_j \\neq b_r)$ (what chromosome the fragment came from is independent of quality score)\n",
    "\n",
    "\n",
    "$\\hspace{15mm} Pr(Z_j=0|B_j \\neq b_r \\cap Q=q)$ (LTP)\n",
    "\n",
    "$\\hspace{20mm} = Pr(Z_j=0 \\cap B_j \\neq b_r \\cap Q=q) [P(B_j \\neq b_r \\cap Q=q)]^{-1}$ (by CP)\n",
    "\n",
    "$\\hspace{20mm} = Pr(Z_j=0 \\cap Q=q \\cap B_j \\neq b_r ) [P(B_j \\neq b_r \\cap Q=q)]^{-1}$ (by communitive law)\n",
    "\n",
    "\n",
    "$\\hspace{20mm} = Pr([R_j=b_n \\cup R_j=b_1 \\cup R_j=b_2] \\cap [Q=q \\cap B_j \\neq b_r])[Pr(B_j \\neq b_r \\cap Q=q)]^{-1}$ (by commutitive law)\n",
    "\n",
    "$\\hspace{20mm} = Pr([(R_j = b_n) \\cup (R_j=b_1 \\cup R_j=b_2)] \\cap [Q=q \\cap B_j \\neq b_r]) [Pr(B_j \\neq b_r \\cap Q=q)]^{-1}$ (by commutitive law)\n",
    "\n",
    "$\\hspace{20mm} =  Pr([R_j = b_n \\cap Q=q \\cap B_j \\neq b_r) \\cup ((R_j=b_1 \\cup R_j=b_2) \\cap Q=q \\cap B_j \\neq b_r)] [Pr(B_j \\neq b_r \\cap Q=q)]^{-1}$ (by associative law)\n",
    "\n",
    "\n",
    "$\\hspace{20mm} = [Pr(R_j=b_n \\cap Q=q \\cap B_j \\neq b_r) + Pr((R_j=b_1 \\cup R_j=b_2) \\cap Q=q \\cap B_j \\neq br)] - Pr[((R_j=b_n \\cap Q=q \\cap B_j=b_r) \\cap (R_j=b_1 \\cup R_j=b_2) \\cap (Q=q \\cap B_j \\neq b_r)))] [Pr(B_j \\neq b_r \\cap Q=q)]$ (by commutative property and general addition rule)\n",
    "\n",
    "\n",
    "$\\hspace{25mm} - Pr[((R_j=b_n \\cap Q=q \\cap B_j=b_r) \\cap (R_j=b_1 \\cup R_j=b_2) \\cap (Q=q \\cap B_j \\neq b_r)))]$ (by commutitive law)\n",
    "\n",
    "$\\hspace{25mm} Pr(R_j=b_n \\cap (Q=q \\cap B_j \\neq b_r)) \\cap ((R_j=b_1 \\cup R_j=b_2) \\cap (Q=q \\cap B_j \\neq b_r))$ (by commutitive law)\n",
    "\n",
    "$\\hspace{25mm} Pr(R_j=b_n \\cap (R_j=b_1 \\cup R_j=b_2)) \\cap (Q=q \\cap B_j \\neq b_r)$ (set alegbra)\n",
    "\n",
    "$\\hspace{35mm}$ where: null set $\\{\\emptyset\\} ={R_j=b_n \\cap (R_j=b_1 \\cup R_j=b_2)}$\n",
    "\n",
    "$\\hspace{25mm} Pr(\\{\\emptyset\\})=0$\n",
    "\n",
    "$\\hspace{20mm} = $<strike>[Pr(B_j $\\neq$ b_r $\\cap$ Q=q)]$^{-1}$</strike>$Pr[(R_j = b_n | Q=q \\cap B_j \\neq b_r)$<strike>Pr(Q=q $\\cap$ B_j $\\neq$ b_r)</strike> + $Pr((R_j=b_1 \\cup R_j=b_2)|Q=q \\cap B_j \\neq b_r) $<strike>Pr(Q=q $\\cap$ B_j $\\neq$ b_r)</strike> - 0] (algebra) \n",
    "\n",
    "\n",
    "=$Pr(Z_j=0|B_j=b_r \\cap Q=q)Pr(B_j=b_r)+[Pr(R_j=b_n |Q=q \\cap B_j \\neq b_r)+Pr((R_j=b_1 \\cup R_j=b_2)|Q=q \\cap B_j \\neq b_r)]Pr(B_j \\neq b_r)$ (algebra)\n",
    "\n",
    "=$Pr(Z_j=0|B_j=b_r \\cap Q=q)Pr(B_j=b_r)+Pr(R_j=b_n|Q=q \\cap B_j \\neq b_r)Pr(B_j \\neq b_r)+Pr((R_j=b_1 \\cup R_j=b_2)|Q=q \\cap B_j \\neq b_r)Pr(B_j \\neq b_r)$  (what chromosome the fragment came from is independent of quality score)\n",
    "\n",
    "\n",
    "$\\hspace{15mm} Pr(Z_j=0|B_j=b_r \\cap Q=q)Pr(B_j=b_r) = e\\frac{g}{m}$\n",
    "\n",
    "$\\hspace{15mm} Pr(R_j=b_n|Q=q \\cap B_j \\neq b_r)Pr(B_j \\neq b_r) = (1-e)\\frac{m-g}{m}$\n",
    "\n",
    "$\\hspace{15mm} Pr((R_j=b_1 \\cup R_j=b_2)|Q=q \\cap B_j \\neq b_r)Pr(B_j \\neq b_r) = \\frac{2}{3}e\\frac{m-g}{m}$"
   ]
  },
  {
   "cell_type": "raw",
   "metadata": {},
   "source": []
  },
  {
   "cell_type": "markdown",
   "metadata": {},
   "source": [
    "$reference allele$ = $Pr(Z_1=z_1)Pr(Z_2=z_2)...Pr(Z_k=z_k)$\n",
    "\n",
    "$nonreference allele$ = $Pr(Z_{k+1}=z_{k+1})Pr(Z_l=z_l)$\n",
    "\n",
    "$Pr(Z_j=1|B_j=br \\cap Q=q)Pr(B_j=b_r) = (1-e)\\frac{g}{m}$ --> source chromosoome of fragment has $b_r$ allele, and $Z_j=1$ means read is also $b_r$\n",
    "\n",
    "$Pr(Z_j=1|B_j \\neq b_r \\cap Q=q)Pr(B_j \\neq b_r) = \\frac{e}{m}\\frac{m-g}{m}$ --> $B_j \\neq b_r$ means $B_j = b_n$ or in other words that the source chomosome of fragment was the SNP but reads as the reference allele\n",
    "\n",
    "$Pr(Z_j=0|B_j=b_r \\cap Q=q)Pr(B_j=b_r)$ = $e\\frac{g}{m}$ --> read error not reading source fragment as reference\n",
    "\n",
    "$Pr(R_j=b_n|Q=q \\cap B_j \\neq b_r)Pr(B_j \\neq b_r)$ = $(1-e)\\frac{m-g}{m}$ --> correctly read as a SNP\n",
    "\n",
    "$Pr((R_j=b_1 \\cup R_j=b_2)|Q=q \\cap B_j \\neq b_r)Pr(B_j \\neq b_r)$ = $\\frac{2}{3}e\\frac{m-g}{m}$ --> incorrect read not the reference or SNP"
   ]
  },
  {
   "cell_type": "raw",
   "metadata": {},
   "source": []
  },
  {
   "cell_type": "markdown",
   "metadata": {},
   "source": [
    "Summary: \n",
    "\n",
    "[From the sections above]\n",
    "\n",
    "$L(g|Z_1,Z_2,...,Z_l)$ \n",
    "\n",
    "=$Pr(Z_1=z_1,Z_2=z_2,...,Z_l=z_l|G=g)$ (by definition of likelihood)\n",
    "\n",
    "=${\\displaystyle \\prod_{j=1}^{k} Pr(Z_j=1)}$ $\\cdot$ ${\\displaystyle \\prod_{j=k+1}^{l} Pr(Z_j=0)}$ (CP/independence/WLOG)\n",
    "\n",
    "=$Pr(Z_j=1|B_j=br \\cap Q=q)Pr(B_j=b_r) + Pr(Z_j=1|B_j \\neq b_r \\cap Q=q)Pr(B_j \\neq b_r)$ $\\cdot$ $Pr(Z_j=0|B_j=b_r \\cap Q=q)Pr(B_j=b_r)+Pr(R_j=b_n|Q=q \\cap B_j \\neq b_r)Pr(B_j \\neq b_r)+Pr((R_j=b_1 \\cup R_j=b_2)|Q=q \\cap B_j \\neq b_r)Pr(B_j \\neq b_r)$  (what chromosome the fragment came from is independent of quality score)\n",
    "\n",
    "=$(1-e)\\frac{g}{m}+e\\frac{g}{m}+\\frac{e}{3}\\frac{m-g}{m}+(1-e)\\frac{m-g}{m}+\\frac{2}{3}e\\frac{m-g}{m}$\n"
   ]
  },
  {
   "cell_type": "raw",
   "metadata": {},
   "source": []
  },
  {
   "cell_type": "markdown",
   "metadata": {},
   "source": [
    "Checking that the probabilities sum to 1 through algebra:\n",
    "\n",
    "$(1-e)(\\frac{g}{m})+e(\\frac{g}{m})+(\\frac{e}{3})(\\frac{m-g}{m})+(1-e)(\\frac{m-g}{m})+(\\frac{2}{3}e)(\\frac{m-g}{m})=1$\n",
    "\n",
    "$((1-e)+e)\\frac{g}{m}+((\\frac{e}{3})+(1-e)+(\\frac{2}{3}e))\\frac{m-g}{m}=1$\n",
    "\n",
    "$1 \\cdot \\frac{g}{m}+1 \\cdot \\frac{m-g}{m}=1$\n",
    "\n",
    "$\\frac{g}{m}+\\frac{m-g}{m}=1$\n",
    "\n",
    "$\\frac{g+m-g}{m}=1$\n",
    "\n",
    "$1=1$"
   ]
  },
  {
   "cell_type": "raw",
   "metadata": {},
   "source": [
    "Hello"
   ]
  }
 ],
 "metadata": {
  "kernelspec": {
   "display_name": "Python 3",
   "language": "python",
   "name": "python3"
  },
  "language_info": {
   "codemirror_mode": {
    "name": "ipython",
    "version": 3
   },
   "file_extension": ".py",
   "mimetype": "text/x-python",
   "name": "python",
   "nbconvert_exporter": "python",
   "pygments_lexer": "ipython3",
   "version": "3.6.6"
  }
 },
 "nbformat": 4,
 "nbformat_minor": 2
}
