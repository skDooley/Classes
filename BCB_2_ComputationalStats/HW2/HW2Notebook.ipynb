{
 "cells": [
  {
   "cell_type": "markdown",
   "metadata": {},
   "source": [
    "<h1><a id='outline'>Project Outline</a></h1>\n",
    "\n",
    "* [Libraries](#libs)\n",
    "* [Initial Data exploration](#ide)\n",
    "* [Homework 2 Questions PDF](#hw2qs)\n",
    "* [References](#refs)\n",
    "    * [Stormo Paper](#stormo)\n",
    "    * [Monte Carlo notes](#mcmc)"
   ]
  },
  {
   "cell_type": "markdown",
   "metadata": {},
   "source": [
    "# Libraries"
   ]
  },
  {
   "cell_type": "code",
   "execution_count": 1,
   "metadata": {},
   "outputs": [],
   "source": [
    "%matplotlib inline\n",
    "from Bio import motifs as Motifs # If this doesn't load: conda install -c bioconda biopython\n",
    "from Bio.SeqIO import index as fIndex\n",
    "from IPython.display import display, Image, Audio\n",
    "from itertools import product as cartProduct\n",
    "from math import log\n",
    "from numpy import dot as dotp\n",
    "from pandas import DataFrame, read_csv, Series\n",
    "from scipy.stats import chi2, multinomial\n",
    "from timeit import default_timer as timer\n",
    "from wand.image import Image as WImage #Comment this out if you don't need to display a NEW PDF pip install Wand\n",
    "\n",
    "class valWrapper:\n",
    "    def __init__(self,value): self.value=value\n",
    "    def __getitem__(self, index): return float(self.value[index])\n",
    "class dfWrapper():\n",
    "    def __init__(self,df): \n",
    "        self.df=df\n",
    "        self.itemGetter = {type(''):self._getBase,type(1):self._getPos}\n",
    "    def _getPos(self,key): return self.df[key]\n",
    "    def _getBase(self,key): return valWrapper(self.df[self.df.index==key])\n",
    "    def __getitem__(self, key): return self.itemGetter[type(key)](key)"
   ]
  },
  {
   "cell_type": "markdown",
   "metadata": {},
   "source": [
    "<h2><a id=\"ide\">Initial Data exploration</a></h2>"
   ]
  },
  {
   "cell_type": "code",
   "execution_count": 2,
   "metadata": {},
   "outputs": [
    {
     "name": "stdout",
     "output_type": "stream",
     "text": [
      "There are 3264 transcription factor binding site sequeneces\n",
      "Of those, there are 1275 unique senequences\n"
     ]
    },
    {
     "data": {
      "image/png": "[encoded data removed]",
      "text/plain": [
       "<IPython.core.display.Image object>"
      ]
     },
     "metadata": {},
     "output_type": "display_data"
    }
   ],
   "source": [
    "tfSites = fIndex(\"transciptionFactorBindingMotifs.fasta\",\"fasta\")\n",
    "print(\"There are %i transcription factor binding site sequeneces\" % (len(tfSites)))\n",
    "seqs = []\n",
    "for seq in tfSites.values():seqs.append(str(seq.seq).upper())\n",
    "knownTs = set(seqs)\n",
    "print(\"Of those, there are %i unique senequences\" % (len(knownTs)))\n",
    "motif = Motifs.create(seqs)\n",
    "# print motif.counts.normalize()\n",
    "motif.weblogo(\"tfSitesLogo.png\",format='png',**{'logo_title':\"TransSites\",'show_ends':False,'unit_name':\"\",'stack_width':'large','show_errorbars':False})    \n",
    "display(Image(\"tfSitesLogo.png\"))"
   ]
  },
  {
   "cell_type": "markdown",
   "metadata": {},
   "source": [
    "<h2 style=\"color:darkgreen\"><a id=\"ia\">Question 1a</a></h2>"
   ]
  },
  {
   "cell_type": "code",
   "execution_count": 3,
   "metadata": {},
   "outputs": [
    {
     "data": {
      "text/plain": [
       "{'G': [846, 700, 1768, 1736, 0, 215, 1010, 554, 1255],\n",
       " 'A': [600, 1465, 82, 152, 1692, 1255, 483, 590, 608],\n",
       " 'T': [608, 587, 476, 1177, 1572, 170, 92, 1475, 598],\n",
       " 'C': [1210, 512, 938, 199, 0, 1624, 1679, 645, 803]}"
      ]
     },
     "execution_count": 3,
     "metadata": {},
     "output_type": "execute_result"
    }
   ],
   "source": [
    "motif.counts"
   ]
  },
  {
   "cell_type": "code",
   "execution_count": 4,
   "metadata": {},
   "outputs": [
    {
     "data": {
      "text/html": [
       "<div>\n",
       "<style scoped>\n",
       "    .dataframe tbody tr th:only-of-type {\n",
       "        vertical-align: middle;\n",
       "    }\n",
       "\n",
       "    .dataframe tbody tr th {\n",
       "        vertical-align: top;\n",
       "    }\n",
       "\n",
       "    .dataframe thead th {\n",
       "        text-align: right;\n",
       "    }\n",
       "</style>\n",
       "<table border=\"1\" class=\"dataframe\">\n",
       "  <thead>\n",
       "    <tr style=\"text-align: right;\">\n",
       "      <th></th>\n",
       "      <th>1</th>\n",
       "      <th>2</th>\n",
       "      <th>3</th>\n",
       "      <th>4</th>\n",
       "      <th>5</th>\n",
       "      <th>6</th>\n",
       "      <th>7</th>\n",
       "      <th>8</th>\n",
       "      <th>9</th>\n",
       "    </tr>\n",
       "  </thead>\n",
       "  <tbody>\n",
       "    <tr>\n",
       "      <th>A</th>\n",
       "      <td>0.183824</td>\n",
       "      <td>0.448836</td>\n",
       "      <td>0.025123</td>\n",
       "      <td>0.046569</td>\n",
       "      <td>0.518382</td>\n",
       "      <td>0.384498</td>\n",
       "      <td>0.147978</td>\n",
       "      <td>0.18076</td>\n",
       "      <td>0.186275</td>\n",
       "    </tr>\n",
       "    <tr>\n",
       "      <th>C</th>\n",
       "      <td>0.370711</td>\n",
       "      <td>0.156863</td>\n",
       "      <td>0.287377</td>\n",
       "      <td>0.060968</td>\n",
       "      <td>0.000000</td>\n",
       "      <td>0.497549</td>\n",
       "      <td>0.514400</td>\n",
       "      <td>0.19761</td>\n",
       "      <td>0.246017</td>\n",
       "    </tr>\n",
       "    <tr>\n",
       "      <th>G</th>\n",
       "      <td>0.259191</td>\n",
       "      <td>0.214461</td>\n",
       "      <td>0.541667</td>\n",
       "      <td>0.531863</td>\n",
       "      <td>0.000000</td>\n",
       "      <td>0.065870</td>\n",
       "      <td>0.309436</td>\n",
       "      <td>0.16973</td>\n",
       "      <td>0.384498</td>\n",
       "    </tr>\n",
       "    <tr>\n",
       "      <th>T</th>\n",
       "      <td>0.186275</td>\n",
       "      <td>0.179841</td>\n",
       "      <td>0.145833</td>\n",
       "      <td>0.360600</td>\n",
       "      <td>0.481618</td>\n",
       "      <td>0.052083</td>\n",
       "      <td>0.028186</td>\n",
       "      <td>0.45190</td>\n",
       "      <td>0.183211</td>\n",
       "    </tr>\n",
       "  </tbody>\n",
       "</table>\n",
       "</div>"
      ],
      "text/plain": [
       "          1         2         3         4         5         6         7  \\\n",
       "A  0.183824  0.448836  0.025123  0.046569  0.518382  0.384498  0.147978   \n",
       "C  0.370711  0.156863  0.287377  0.060968  0.000000  0.497549  0.514400   \n",
       "G  0.259191  0.214461  0.541667  0.531863  0.000000  0.065870  0.309436   \n",
       "T  0.186275  0.179841  0.145833  0.360600  0.481618  0.052083  0.028186   \n",
       "\n",
       "         8         9  \n",
       "A  0.18076  0.186275  \n",
       "C  0.19761  0.246017  \n",
       "G  0.16973  0.384498  \n",
       "T  0.45190  0.183211  "
      ]
     },
     "execution_count": 4,
     "metadata": {},
     "output_type": "execute_result"
    }
   ],
   "source": [
    "pfm = DataFrame(motif.counts,index=range(1,10),columns=['A','C','G','T']).transpose()\n",
    "pfm=pfm.reindex(['A','C','G','T'])\n",
    "pwm = pfm/pfm.sum()\n",
    "pwm # or motif.pwm but dataframe displays prettier"
   ]
  },
  {
   "cell_type": "code",
   "execution_count": 5,
   "metadata": {},
   "outputs": [],
   "source": [
    "pwm = dfWrapper(pwm)"
   ]
  },
  {
   "cell_type": "markdown",
   "metadata": {},
   "source": [
    "<h4><a id=\"trans\">Build Position weighted data structure for single base transitions</a></h4>"
   ]
  },
  {
   "cell_type": "code",
   "execution_count": 6,
   "metadata": {},
   "outputs": [],
   "source": [
    "Ps = {}\n",
    "#Initialize the Ps matrix\n",
    "for pos in range(1,9):\n",
    "    Ps[pos]={}\n",
    "    for firstBase,secondBase in cartProduct(['A','C','G','T'],['A','C','G','T']):\n",
    "        try: Ps[pos][firstBase][secondBase] = 0\n",
    "        except: Ps[pos][firstBase] = {secondBase:0}\n",
    "\n",
    "#Count the number of times each base is found together in the motifs\n",
    "for seq in seqs:\n",
    "    for pos in range(0,8): Ps[pos+1][seq[pos]][seq[pos+1]]+=1\n",
    "\n",
    "#Scale to make a PW transition matrix\n",
    "transMat = {}\n",
    "for pos in range(1,9):\n",
    "    transMat[pos] = {}\n",
    "    for firstBase,secondBase in cartProduct(['A','C','G','T'],['A','C','G','T']):\n",
    "        rc_total = Series(Ps[pos][firstBase]).sum()\n",
    "        if rc_total == 0.0:\n",
    "            try: transMat[pos][firstBase][secondBase] = 0.0\n",
    "            except: transMat[pos][firstBase] = {secondBase: 0.0}\n",
    "        else:\n",
    "            try: transMat[pos][firstBase][secondBase] = Ps[pos][firstBase][secondBase]/rc_total\n",
    "            except: transMat[pos][firstBase] = {secondBase: Ps[pos][firstBase][secondBase]/rc_total}"
   ]
  },
  {
   "cell_type": "markdown",
   "metadata": {},
   "source": [
    "<h2 style=\"color:darkgreen\"><a id=\"1bi\">Question 1b.i</a></h2>"
   ]
  },
  {
   "cell_type": "markdown",
   "metadata": {},
   "source": [
    "<h4><a id=\"lho\"></a>L(Ho)</h4>"
   ]
  },
  {
   "cell_type": "code",
   "execution_count": 7,
   "metadata": {},
   "outputs": [
    {
     "name": "stdout",
     "output_type": "stream",
     "text": [
      "Log likelihood of the null given the data: -33183.59287371202\n"
     ]
    }
   ],
   "source": [
    "LL_Ho = 0.0\n",
    "for seq in seqs:\n",
    "    for pos in range(1,10): LL_Ho += log(pwm[pos][seq[pos-1]])\n",
    "print(\"Log likelihood of the null given the data:\",LL_Ho)"
   ]
  },
  {
   "cell_type": "markdown",
   "metadata": {},
   "source": [
    "<h4><a id=\"lha\"></a>L(Ha)</h4>"
   ]
  },
  {
   "cell_type": "code",
   "execution_count": 8,
   "metadata": {},
   "outputs": [
    {
     "name": "stdout",
     "output_type": "stream",
     "text": [
      "Log likelihood of the alternative given the data: -24490.891541478286\n"
     ]
    }
   ],
   "source": [
    "LL_Ha = 0.0\n",
    "for seq in seqs:\n",
    "    LL_Ha += log(pwm[1][seq[0]])\n",
    "    for pos in range(0,8): LL_Ha += log(transMat[pos+1][seq[pos]][seq[pos+1]])\n",
    "print(\"Log likelihood of the alternative given the data:\",LL_Ha)"
   ]
  },
  {
   "cell_type": "code",
   "execution_count": 9,
   "metadata": {},
   "outputs": [
    {
     "name": "stdout",
     "output_type": "stream",
     "text": [
      "Lambda: 17385.402664467467 DF: 72\n",
      "Pvalue for the LRT:  0.0\n"
     ]
    }
   ],
   "source": [
    "lmbda = 2*(LL_Ha-LL_Ho)\n",
    "print(\"Lambda:\",lmbda, \"DF:\",(3+12*8)-(9*3))\n",
    "print(\"Pvalue for the LRT: \",chi2.pdf(lmbda,(3+12*8)-(9*3)))"
   ]
  },
  {
   "cell_type": "markdown",
   "metadata": {},
   "source": [
    "<h4><a id=\"lho\"></a>Create objects to lend to generating sequence data</h4>"
   ]
  },
  {
   "cell_type": "code",
   "execution_count": 10,
   "metadata": {},
   "outputs": [],
   "source": [
    "seqMapper = {'1000':'A','0100':'C','0010':'G', '0001':'T'} # Single base generations\n",
    "\n",
    "index = 0\n",
    "for b1,b2 in cartProduct(['A','C','G','T'],['A','C','G','T']): # 2 base generations\n",
    "    indetifier = '0' * index + '1' + '0' * (15-index)\n",
    "    index += 1\n",
    "    seqMapper[indetifier] = b1+b2\n",
    "index = 0\n",
    "for b1,b2,b3 in cartProduct(['A','C','G','T'],['A','C','G','T'],['A','C','G','T']): # 3 base generations\n",
    "    indetifier = '0' * index + '1' + '0' * (63-index)\n",
    "    index += 1\n",
    "    seqMapper[indetifier] = b1+b2+b3\n",
    "    \n",
    "index = 0\n",
    "for b1,b2,b3,b4 in cartProduct(['A','C','G','T'],['A','C','G','T'],['A','C','G','T'],['A','C','G','T']): # 4 base generations\n",
    "    indetifier = '0' * index + '1' + '0' * (255-index)\n",
    "    index += 1\n",
    "    seqMapper[indetifier] = b1+b2+b3+b4\n",
    "    \n",
    "index = 0\n",
    "for b1,b2,b3,b4,b5 in cartProduct(['A','C','G','T'],['A','C','G','T'],['A','C','G','T'],['A','C','G','T'],['A','C','G','T']): # 5 base generations\n",
    "    indetifier = '0' * index + '1' + '0' * (1023-index)\n",
    "    index += 1\n",
    "    seqMapper[indetifier] = b1+b2+b3+b4+b5\n",
    "\n",
    "rv = multinomial.rvs\n",
    "class randBase:\n",
    "    def __init__(self,pVals):\n",
    "        base = rv(1,pVals)\n",
    "        self.seq = seqMapper[''.join(str(v) for v in base)]\n",
    "    def __hash__(self):return hash(self.seq)\n",
    "    def __str__(self):return self.seq   \n",
    "    def __add__(self, other): return str(self) + other\n",
    "    def __radd__(self, other): return other + str(self)"
   ]
  },
  {
   "cell_type": "code",
   "execution_count": null,
   "metadata": {},
   "outputs": [],
   "source": [
    "%%bash\n",
    "git add HW2Notebook.ipynb;\n",
    "git commit -m \" \";\n",
    "git push"
   ]
  },
  {
   "cell_type": "code",
   "execution_count": 11,
   "metadata": {},
   "outputs": [],
   "source": [
    "\"\"\"\n",
    "pwm - Probability weighted matrix \n",
    "numSims - Number of simulations\n",
    "\"\"\"\n",
    "def simulateIndepSeqModel(pwm,numSeqs,numSims=10000,seqLen=9,knownSeqs=set()):\n",
    "    succesfulSims, total, totalKnown = 0, 0, 0\n",
    "    for sim in range(numSims):\n",
    "        numTimesGenSequenceInKnown = 0\n",
    "        for seq in range(numSeqs):\n",
    "            seq = \"\"\n",
    "            for pos in range(1,seqLen+1): seq += randBase(pwm[pos])\n",
    "            numTimesGenSequenceInKnown += int((seq in knownTs))\n",
    "            total += 1\n",
    "        totalKnown += numTimesGenSequenceInKnown\n",
    "        succesfulSims += int((numTimesGenSequenceInKnown >= numSeqs))\n",
    "    if succesfulSims == 0: succesfulSims += 1; numSims += 1\n",
    "    return (totalKnown/float(total))*100, succesfulSims/float(numSims) # %simulations fitting data, Pval\n",
    "    \n",
    "def simulateMarkovChainModel(pwm,transMatrix,numSeqs,numSims=1000,seqLen=9,knownSeqs=set()):\n",
    "    succesfulSims, total, totalKnown = 0, 0, 0\n",
    "    for sim in range(numSims):\n",
    "        numTimesGenSequenceInKnown = 0\n",
    "        for seq in range(numSeqs):\n",
    "            seq = str(randBase(pwm[1]))\n",
    "            for pos in range(1,seqLen): seq += randBase(list(transMatrix[pos][seq[-1]].values()))\n",
    "            numTimesGenSequenceInKnown += int((seq in knownTs))\n",
    "            total += 1\n",
    "        totalKnown += numTimesGenSequenceInKnown\n",
    "        succesfulSims += int((numTimesGenSequenceInKnown >= numSeqs))\n",
    "    return totalKnown/float(total)*100, succesfulSims/float(numSims)\n",
    "\n",
    "'''\n",
    "Order must be >= 2\n",
    "'''\n",
    "def simulateMarkovChainModelOrderN(pwm,transMatrix,numSeqs,numSims=1000,order=2,seqLen=9,knownSeqs=set()):\n",
    "    succesfulSims, total, totalKnown = 0, 0, 0\n",
    "    numTimesGenSequenceInKnown = 0\n",
    "    for sim in range(numSims):\n",
    "        numTimesGenSequenceInKnown = 0\n",
    "        for seq in range(numSeqs):\n",
    "            seq = str(randBase(pwm))\n",
    "            for pos in range(1,(seqLen-order)+1): seq += randBase(list(transMatrix[pos][seq[-order:]].values()))\n",
    "            numTimesGenSequenceInKnown += int((seq in knownTs))\n",
    "            total += 1\n",
    "        totalKnown += numTimesGenSequenceInKnown\n",
    "        succesfulSims += int((numTimesGenSequenceInKnown >= numSeqs))\n",
    "    if succesfulSims == 0: succesfulSims += 1; numSims += 1\n",
    "    return totalKnown/float(total)*100, succesfulSims/float(numSims)\n"
   ]
  },
  {
   "cell_type": "markdown",
   "metadata": {},
   "source": [
    "<h2 style=\"color:darkgreen\"><a id=\"1bii\">Question 1b.ii</a></h2>"
   ]
  },
  {
   "cell_type": "code",
   "execution_count": 12,
   "metadata": {},
   "outputs": [
    {
     "name": "stdout",
     "output_type": "stream",
     "text": [
      "Percent success generating a known transcription factor sequence using an independent sites model: 7.033%\n",
      "ISM Model P-Value <= 0.009900990099009901\n",
      "Percent success generating a known transcription factor sequence using markov chain model 72.617%\n",
      "MC Model P-Value <= 0.0\n"
     ]
    }
   ],
   "source": [
    "ismPerCorrect, pvalISM = simulateIndepSeqModel(pwm,len(seqs),1000)\n",
    "mcmPerCorrect, pvalMCM = simulateMarkovChainModel(pwm,transMat,len(seqs),1000)\n",
    "print(\"Percent success generating a known transcription factor sequence using an independent sites model: %.3f%%\" % (ismPerCorrect))\n",
    "print(\"ISM Model P-Value <= %.3f\" % pvalISM)\n",
    "print(\"Percent success generating a known transcription factor sequence using markov chain model %.3f%%\" % (mcmPerCorrect))\n",
    "print(\"MC Model P-Value <= %.3f\" % pvalMCM)"
   ]
  },
  {
   "cell_type": "markdown",
   "metadata": {},
   "source": [
    "<h2 style=\"color:darkgreen\"><a id=\"ic\">Question 1c</a></h2>"
   ]
  },
  {
   "cell_type": "code",
   "execution_count": null,
   "metadata": {},
   "outputs": [],
   "source": [
    "#Be sure to run the pw2/transMat2,3,4 etc below BEFORE you run these\n",
    "print (\"Order 2: %.3f%% %.3f\" % (simulateMarkovChainModelOrderN(list(pwm2.values()),transMat2,len(seqs),1000,order=2)))\n",
    "print (\"Order 3: %.3f%% %.3f\" % (simulateMarkovChainModelOrderN(list(pwm3.values()),transMat3,len(seqs),1000,order=3)))\n",
    "print (\"Order 4: %.3f%% %.3f\" % (simulateMarkovChainModelOrderN(list(pwm4.values()),transMat4,len(seqs),1000,order=4)))\n",
    "print (\"Order 5: %.3f%% %.3f\" % (simulateMarkovChainModelOrderN(list(pwm5.values()),transMat5,len(seqs),1000,order=5)))"
   ]
  },
  {
   "cell_type": "markdown",
   "metadata": {},
   "source": [
    "<h3 style=\"color:darkgreen\"><a id=\"ic\">Order 2</a></h3>"
   ]
  },
  {
   "cell_type": "code",
   "execution_count": 14,
   "metadata": {},
   "outputs": [
    {
     "name": "stdout",
     "output_type": "stream",
     "text": [
      "LL_Ho -24490.891541478286\n",
      "LL_Ha -23836.890444189088\n",
      "1308.0021945783956\n"
     ]
    },
    {
     "name": "stderr",
     "output_type": "stream",
     "text": [
      "/mnt/home/dooleys1/bin/anaconda3/lib/python3.6/site-packages/ipykernel_launcher.py:20: RuntimeWarning: invalid value encountered in double_scalars\n",
      "/mnt/home/dooleys1/bin/anaconda3/lib/python3.6/site-packages/ipykernel_launcher.py:21: RuntimeWarning: invalid value encountered in double_scalars\n"
     ]
    },
    {
     "data": {
      "text/plain": [
       "2.200067769067237e-142"
      ]
     },
     "execution_count": 14,
     "metadata": {},
     "output_type": "execute_result"
    }
   ],
   "source": [
    "# Do an order 2 mc instead of order 1\n",
    "P2s = {}\n",
    "#Initialize the Ps matrix\n",
    "for pos in range(1,9):\n",
    "    P2s[pos]={}\n",
    "    for firstBase,secondBase,thirdBase in cartProduct(['A','C','G','T'],['A','C','G','T'],['A','C','G','T']):\n",
    "        try: P2s[pos][firstBase+secondBase][thirdBase] = 0.0\n",
    "        except: P2s[pos][firstBase+secondBase] = {thirdBase:0.0}\n",
    "\n",
    "#Count the number of times each base is found together\n",
    "for seq in seqs:\n",
    "    for pos in range(0,7): P2s[pos+1][seq[pos:pos+2]][seq[pos+2]]+=1\n",
    "\n",
    "#Compute the transition matrix        \n",
    "transMat2 = {}\n",
    "for pos in range(1,9):\n",
    "    transMat2[pos] = {}\n",
    "    for firstBase,secondBase,thirdBase in cartProduct(['A','C','G','T'],['A','C','G','T'],['A','C','G','T']):\n",
    "        rc_total = Series(P2s[pos][firstBase+secondBase]).sum()\n",
    "        try: transMat2[pos][firstBase+secondBase][thirdBase] = P2s[pos][firstBase+secondBase][thirdBase]/rc_total\n",
    "        except: transMat2[pos][firstBase+secondBase] = {thirdBase: P2s[pos][firstBase+secondBase][thirdBase]/rc_total}\n",
    "\n",
    "#Compute the null (order 1 model)\n",
    "LL_Ho = 0.0\n",
    "for seq in seqs:\n",
    "    LL_Ho += log(pwm[1][seq[0]])\n",
    "    for pos in range(0,8):\n",
    "        LL_Ho += log(transMat[pos+1][seq[pos]][seq[pos+1]])\n",
    "print(\"LL_Ho\",LL_Ho)      \n",
    "\n",
    "#Compute the alphas for order 2\n",
    "pwm2 = {}\n",
    "for pair in transMat2[1]:\n",
    "    countSum = Series(P2s[1][pair]).sum()\n",
    "    pwm2[pair] = countSum/len(seqs)\n",
    "    \n",
    "#Compute the alternate (order 2 model)\n",
    "LL_Ha = 0.0\n",
    "for seq in seqs:\n",
    "    LL_Ha += log(pwm2[seq[0:2]])\n",
    "    for pos in range(0,7):\n",
    "        LL_Ha += log(transMat2[pos+1][seq[pos:pos+2]][seq[pos+2]])\n",
    "print(\"LL_Ha\",LL_Ha) \n",
    "lmbda = 2*(LL_Ha-LL_Ho)\n",
    "print(lmbda)\n",
    "chi2.pdf(lmbda,(64*7+16 - ((16*7)+1)) -  (3+12*8))"
   ]
  },
  {
   "cell_type": "markdown",
   "metadata": {},
   "source": [
    "<h2 style=\"color:darkgreen\"><a id=\"ic\">Question 2a</a></h2>"
   ]
  },
  {
   "cell_type": "code",
   "execution_count": null,
   "metadata": {},
   "outputs": [],
   "source": [
    "# the promotors file was dirty so I made it all upper case and replaced the file\n",
    "# from Bio.SeqIO import parse\n",
    "# fh = open(\"Promoters.fa\",'w')\n",
    "# for rec in parse(\"promoters.fasta\",\"fasta\"):\n",
    "#     fh.write(\">%s\\n%s\\n\" % (rec.id,str(rec.seq).upper()))\n",
    "# fh.close()\n",
    "# import os\n",
    "# os.system(\"mv Promoters.fa promoters.fasta\")"
   ]
  },
  {
   "cell_type": "code",
   "execution_count": 15,
   "metadata": {},
   "outputs": [
    {
     "name": "stdout",
     "output_type": "stream",
     "text": [
      "There are 2135 sequences\n",
      "There are 238136 unique kmers from total sequence length of 2135000\n"
     ]
    }
   ],
   "source": [
    "promoters = fIndex(\"promoters.fasta\",\"fasta\")\n",
    "print (\"There are %s sequences\" % len(promoters))\n",
    "totalSeqLen = 0\n",
    "kmers = {}\n",
    "promoterSeqs = []\n",
    "NCounter = 0\n",
    "alphas = {}\n",
    "index = 0\n",
    "for rec in promoters.values():\n",
    "    totalSeqLen += len(rec.seq)\n",
    "    for base in ['A','C','G','T']: \n",
    "        try:alphas[index][base] = rec.seq.count(base)\n",
    "        except:alphas[index]= {base:rec.seq.count(base)}\n",
    "    index+=1\n",
    "    NCounter += rec.seq.count('N')\n",
    "    promoterSeqs.append(str(rec.seq).upper())\n",
    "    for i in range(0,len(rec.seq)-8):\n",
    "        try:kmers[str(rec.seq[i:i+9])]+=1\n",
    "        except:kmers[str(rec.seq[i:i+9])]=1\n",
    "alphas = DataFrame(alphas)/len(rec.seq)\n",
    "\n",
    "print (\"There are %i unique kmers from total sequence length of %i\" % (len(kmers),totalSeqLen))"
   ]
  },
  {
   "cell_type": "code",
   "execution_count": 34,
   "metadata": {},
   "outputs": [],
   "source": [
    "# Model from Question 1\n",
    "Ps_promoters = {}\n",
    "for firstBase,secondBase in cartProduct(['A','C','G','T'],['A','C','G','T']):\n",
    "    try: Ps_promoters[firstBase][secondBase] = 0\n",
    "    except: Ps_promoters[firstBase] = {secondBase:0}\n",
    "# for pos in range(1,10):Ps_promoters[pos] = {}\n",
    "H_promoters = {}\n",
    "index = 0\n",
    "for seq in promoterSeqs:\n",
    "    H_promoters[index]= {}\n",
    "    Ps_promoters = {}\n",
    "    for firstBase,secondBase in cartProduct(['A','C','G','T'],['A','C','G','T']):\n",
    "        try: Ps_promoters[firstBase][secondBase] = 0\n",
    "        except: Ps_promoters[firstBase] = {secondBase:0}\n",
    "    for i in range(0,len(seq)-1):\n",
    "        if seq[i] == 'N': # If both are N or the first base is N, do not count\n",
    "            continue\n",
    "        elif seq[i+1] == 'N': #We know the proceeding base so add 1 to all possible basse\n",
    "            for base in ['A','C','G','T']:\n",
    "                try:Ps_promoters[seq[i]][base]+=1\n",
    "                except: \n",
    "                    try:Ps_promoters[seq[i]][base]=1\n",
    "                    except:Ps_promoters[seq[i]] = {base:1}\n",
    "        else: \n",
    "            try:Ps_promoters[seq[i]][seq[i+1]]+=1\n",
    "            except: \n",
    "                try:Ps_promoters[seq[i]][seq[i+1]]=1\n",
    "                except:Ps_promoters[seq[i]] = {seq[i+1]:1}\n",
    "    #Position weight the count matrix to get the frequency matrix for the current sequence\n",
    "    H_promoters[index] = DataFrame(Ps_promoters)\n",
    "    H_promoters[index] = H_promoters[index]/H_promoters[index].sum()     \n",
    "    index+=1"
   ]
  },
  {
   "cell_type": "code",
   "execution_count": null,
   "metadata": {},
   "outputs": [],
   "source": [
    "index = 0 \n",
    "tCounts,tSeqs={},{}\n",
    "for seq in promoterSeqs:\n",
    "    tCounts[index] = 0\n",
    "    tSeqs[index] = {'In':0,'Total':0}\n",
    "    for i in range(0,len(seq)-8):\n",
    "        subseq = seq[i:i+9]\n",
    "        if 'N' in subseq:continue\n",
    "        L_H_q1 = pwm[1][seq[i]]\n",
    "        L_H_promoters = alphas[index][seq[i]]\n",
    "        for pos in range(0,8):\n",
    "            L_H_q1 *= transMat[pos+1][subseq[pos]][subseq[pos+1]]\n",
    "            L_H_promoters *= H_promoters[index][subseq[pos]][subseq[pos+1]]\n",
    "        if L_H_q1/L_H_promoters >= 1:\n",
    "            tSeqs[index]['Total']+=1\n",
    "            tSeqs[index]['In'] += int(subseq in knownTs)\n",
    "        tCounts[index] += int(L_H_q1/L_H_promoters >= 1)\n",
    "    #print (index,tCounts[index])\n",
    "    index+=1"
   ]
  },
  {
   "cell_type": "code",
   "execution_count": null,
   "metadata": {},
   "outputs": [],
   "source": [
    "import pickle\n",
    "pickle.dump(tSeqs,open(\"tSeqs.p\",\"wb\"))\n",
    "# pickle.dump(tCounts,open(\"Tcounts.p\",\"wb\"))\n",
    "tCounts = pickle.load(open(\"Tcounts.p\",\"rb\"))"
   ]
  },
  {
   "cell_type": "code",
   "execution_count": 32,
   "metadata": {},
   "outputs": [
    {
     "name": "stdout",
     "output_type": "stream",
     "text": [
      "Significant P-Values at the alpha = .1 cuttoff: 383\n"
     ]
    }
   ],
   "source": [
    "df = read_csv(\"PvaluesOfMC_Q2.txt\", names=[\"SeqID\",\"Pval\"],sep=\" \")\n",
    "print(\"Significant P-Values at the alpha = .1 cuttoff:\",len(df[df.Pval <= .1]))"
   ]
  },
  {
   "cell_type": "code",
   "execution_count": null,
   "metadata": {},
   "outputs": [],
   "source": [
    "dist = []\n",
    "for ct in tSeqs.values(): dist.append(ct['In']/float(ct['Total']))\n",
    "dist = Series(dist)\n",
    "dist.plot.hist();\n",
    "print(dist.describe())"
   ]
  },
  {
   "cell_type": "code",
   "execution_count": null,
   "metadata": {},
   "outputs": [],
   "source": [
    "TcountsDist = Series(tCounts)\n",
    "TcountsDist.plot.hist()"
   ]
  },
  {
   "cell_type": "code",
   "execution_count": null,
   "metadata": {},
   "outputs": [],
   "source": [
    "TcountsDist[TcountsDist<20]"
   ]
  },
  {
   "cell_type": "code",
   "execution_count": null,
   "metadata": {},
   "outputs": [],
   "source": [
    "for ind,count in TcountsDist[TcountsDist<20].items():\n",
    "    seq = promoterSeqs[ind]\n",
    "    counter = 0\n",
    "    for i in range(0,len(seq)-8):\n",
    "        counter+= int(seq[i:i+9] in knownTs)\n",
    "    print (ind,count,counter)"
   ]
  },
  {
   "cell_type": "code",
   "execution_count": null,
   "metadata": {},
   "outputs": [],
   "source": [
    "dist=[]\n",
    "for rec in promoters.values():\n",
    "    count = 0\n",
    "    for i in range(0,len(rec.seq)-8):\n",
    "        if str(rec.seq[i:i+9]) in knownTs: count += 1\n",
    "    dist.append(count)    \n",
    "dist = Series(dist)\n",
    "dist.plot.hist();"
   ]
  },
  {
   "cell_type": "markdown",
   "metadata": {},
   "source": [
    "#### Question 2b"
   ]
  },
  {
   "cell_type": "code",
   "execution_count": null,
   "metadata": {},
   "outputs": [],
   "source": [
    "def GenerateSeq(transMatrix,alpha,length):\n",
    "    seq = str(randBase(alpha))\n",
    "    for i in range(length-1):\n",
    "        seq += randBase(transMatrix[seq[-1]])\n",
    "    return seq\n",
    "\n",
    "s = GenerateSeq(H_promoters[0],alphas[0],1000)\n",
    "# len(s)\n",
    "from numpy import prod\n",
    "def T_s(seq,pwm,alphas,transMatrix,H_proms):\n",
    "    tCount = 0\n",
    "    for i in range(0,len(seq)-8):\n",
    "        subseq = seq[i:i+9]\n",
    "        alpha_ho = pwm[1][seq[i]]\n",
    "        alpha_ha = alphas[seq[i]]\n",
    "        HoList = [transMatrix[pos+1][subseq[pos]][subseq[pos+1]] for pos in range(0,8)]\n",
    "        HaList = [H_proms[subseq[pos]][subseq[pos+1]] for pos in range(0,8)]\n",
    "        HoList.append(alpha_ho)\n",
    "        HaList.append(alpha_ha)\n",
    "        L_H_q1 = prod(HoList)\n",
    "        L_H_promoters = prod(HaList)\n",
    "        tCount += int(L_H_q1/L_H_promoters >= 1)\n",
    "    return tCount\n",
    "\n",
    "t = T_s(s,pwm,alphas[0],transMat,H_promoters[0])\n",
    "print (t,tCounts[0])"
   ]
  },
  {
   "cell_type": "code",
   "execution_count": null,
   "metadata": {},
   "outputs": [],
   "source": [
    "combinedMotifs = \"\".join(seqs)\n",
    "dist = []\n",
    "for index in range(len(H_promoters)):\n",
    "    counter = 0\n",
    "    total = 0\n",
    "    for i in range(0,len(combinedMotifs)-8):\n",
    "        \n",
    "        subseq = combinedMotifs[i:i+9]\n",
    "        L_H_q1 = pwm[1][combinedMotifs[i]]\n",
    "        L_H_promoters = alphas[index][combinedMotifs[i]]\n",
    "        for pos in range(0,8):\n",
    "            L_H_q1 *= transMat[pos+1][subseq[pos]][subseq[pos+1]]\n",
    "            L_H_promoters *= H_promoters[index][subseq[pos]][subseq[pos+1]]\n",
    "        if L_H_promoters != 0 and L_H_q1/L_H_promoters >= 1: counter += 1\n",
    "        total +=1\n",
    "    dist.append(counter/float(total))\n",
    "    \n",
    "#print(counter,\"/\",total)\n",
    "dist = Series(dist)\n",
    "dist.plot.hist();\n",
    "print(dist.describe())\n",
    "    "
   ]
  },
  {
   "cell_type": "code",
   "execution_count": null,
   "metadata": {},
   "outputs": [],
   "source": [
    "alphas"
   ]
  },
  {
   "cell_type": "code",
   "execution_count": null,
   "metadata": {},
   "outputs": [],
   "source": [
    "numSims = 100\n",
    "for index in range(len(H_promoters)):\n",
    "    tSuccesses = 0\n",
    "    for sim in range(numSims):\n",
    "        genSeq = GenerateSeq(H_promoters[index],alphas[index],1000)\n",
    "        tSuccesses += int(T_s(genSeq,pwm,alphas[index],transMat,H_promoters[index]) >= tCounts[index])\n",
    "    print(index,tSuccesses/float(numSims))"
   ]
  },
  {
   "cell_type": "code",
   "execution_count": null,
   "metadata": {},
   "outputs": [],
   "source": [
    "alphas[0]"
   ]
  },
  {
   "cell_type": "code",
   "execution_count": null,
   "metadata": {},
   "outputs": [],
   "source": [
    "20*2000/60"
   ]
  },
  {
   "cell_type": "code",
   "execution_count": null,
   "metadata": {},
   "outputs": [],
   "source": [
    "H_promoters[0]"
   ]
  },
  {
   "cell_type": "code",
   "execution_count": null,
   "metadata": {},
   "outputs": [],
   "source": [
    ".2*.3*.4*.5"
   ]
  },
  {
   "cell_type": "code",
   "execution_count": null,
   "metadata": {},
   "outputs": [],
   "source": [
    ".3*.4*.5*.6"
   ]
  },
  {
   "cell_type": "code",
   "execution_count": null,
   "metadata": {},
   "outputs": [],
   "source": [
    "((.2*.3*.4*.5)/.2)*.6"
   ]
  },
  {
   "cell_type": "markdown",
   "metadata": {},
   "source": [
    "<h2><a id=\"hw2qs\">Homework 2 Questions</a></h2>"
   ]
  },
  {
   "cell_type": "code",
   "execution_count": null,
   "metadata": {},
   "outputs": [],
   "source": [
    "imageFromPdf = WImage(filename='HW2_AssignmentStatement.pdf')  \n",
    "pages = len(imageFromPdf.sequence)  \n",
    "image = WImage( width=imageFromPdf.width, height=imageFromPdf.height * pages)  \n",
    "for i in range(pages):  image.composite(imageFromPdf.sequence[i], top=imageFromPdf.height * i, left=0)  \n",
    "image.format=\"png\"  \n",
    "image "
   ]
  },
  {
   "cell_type": "markdown",
   "metadata": {},
   "source": [
    "<h4><a id=\"refs\"><u>References</u></a></h4>"
   ]
  },
  {
   "cell_type": "markdown",
   "metadata": {},
   "source": [
    "<h4><a id=\"stormo\">1. Stromo Paper</a></h4>"
   ]
  },
  {
   "cell_type": "code",
   "execution_count": null,
   "metadata": {},
   "outputs": [],
   "source": [
    "imageFromPdf = WImage(filename='Stormo_2000.pdf')  \n",
    "pages = len(imageFromPdf.sequence)  \n",
    "image = WImage( width=imageFromPdf.width, height=imageFromPdf.height * pages)  \n",
    "for i in range(pages):  image.composite(imageFromPdf.sequence[i], top=imageFromPdf.height * i, left=0)  \n",
    "image.format=\"png\"  \n",
    "image "
   ]
  },
  {
   "cell_type": "markdown",
   "metadata": {},
   "source": [
    "<h4><a id=\"mcmc\">2. Markov Chain Notes</a></h4>"
   ]
  },
  {
   "cell_type": "code",
   "execution_count": null,
   "metadata": {},
   "outputs": [],
   "source": [
    "imageFromPdf = WImage(filename='mch.pdf')  \n",
    "pages = len(imageFromPdf.sequence)  \n",
    "image = WImage( width=imageFromPdf.width, height=imageFromPdf.height * pages)  \n",
    "for i in range(pages):  image.composite(imageFromPdf.sequence[i], top=imageFromPdf.height * i, left=0)  \n",
    "image.format=\"png\"  \n",
    "image "
   ]
  },
  {
   "cell_type": "code",
   "execution_count": null,
   "metadata": {},
   "outputs": [],
   "source": [
    "import threading\n",
    "thread1 = threading.Thread(target=simulateMarkovChainModelOrderN, args=(list(pwm2.values()),transMat2,100000,2))\n",
    "thread2 = threading.Thread(target=simulateMarkovChainModelOrderN, args=(list(pwm2.values()),transMat2,100000,2))\n",
    "# Will execute both in parallel\n",
    "s1=thread1.start()\n",
    "s2=thread2.start()\n",
    "# Joins threads back to the parent process, which is this\n",
    "# program\n",
    "\n",
    "val1 = thread1.join()\n",
    "val2 = thread2.join()\n",
    "\n",
    "import multiprocessing\n",
    "global pval\n",
    "p1 = multiprocessing.Process(target=simulateMarkovChainModelOrderN, args=(list(pwm2.values()),transMat2,100000,2))\n",
    "p2 = multiprocessing.Process(target=simulateMarkovChainModelOrderN, args=(list(pwm2.values()),transMat2,100000,2))\n",
    "p1.start()\n",
    "p2.start()\n",
    "p1.join()\n",
    "p2.join()\n",
    "    \n",
    "    # Wont print because processes run using their own memory location                     \n",
    "print(\"here\",pval)"
   ]
  },
  {
   "cell_type": "code",
   "execution_count": null,
   "metadata": {},
   "outputs": [],
   "source": [
    "# Do an order 3 mc instead of order 2\n",
    "P3s = {}\n",
    "#Initialize the Ps matrix\n",
    "for pos in range(1,9):\n",
    "    P3s[pos]={}\n",
    "    for firstBase,secondBase,thirdBase,fourthBase in cartProduct(['A','C','G','T'],['A','C','G','T'],['A','C','G','T'],['A','C','G','T']):\n",
    "        try: P3s[pos][firstBase+secondBase+thirdBase][fourthBase] = 0.0\n",
    "        except: P3s[pos][firstBase+secondBase+thirdBase] = {fourthBase:0.0}\n",
    "\n",
    "#Count the number of times each base is found together\n",
    "for seq in seqs:\n",
    "    for pos in range(0,6): P3s[pos+1][seq[pos:pos+3]][seq[pos+3]]+=1\n",
    "\n",
    "#Compute the transition matrix        \n",
    "transMat3 = {}\n",
    "for pos in range(1,9):\n",
    "    transMat3[pos] = {}\n",
    "    for firstBase,secondBase,thirdBase,fourthBase in cartProduct(['A','C','G','T'],['A','C','G','T'],['A','C','G','T'],['A','C','G','T']):\n",
    "        rc_total = Series(P3s[pos][firstBase+secondBase+thirdBase]).sum()\n",
    "        if rc_total == 0.0:\n",
    "            try:transMat3[pos][firstBase+secondBase+thirdBase][fourthBase] = 0.0\n",
    "            except: transMat3[pos][firstBase+secondBase+thirdBase] = {fourthBase: 0.0}\n",
    "            continue\n",
    "        try: transMat3[pos][firstBase+secondBase+thirdBase][fourthBase] = P3s[pos][firstBase+secondBase+thirdBase][fourthBase]/rc_total\n",
    "        except: transMat3[pos][firstBase+secondBase+thirdBase] = {fourthBase: P3s[pos][firstBase+secondBase+thirdBase][fourthBase]/rc_total}\n",
    "\n",
    "#Compute the null (order 2 model)\n",
    "LL_Ho = 0.0\n",
    "for seq in seqs:\n",
    "    LL_Ho += log(pwm2[seq[0:2]])\n",
    "    for pos in range(0,7):\n",
    "        LL_Ho += log(transMat2[pos+1][seq[pos:pos+2]][seq[pos+2]])\n",
    "print(\"LL_Ho\",LL_Ho)      \n",
    "\n",
    "#Compute the alphas for order 3\n",
    "pwm3 = {}\n",
    "for pair in transMat3[1]:\n",
    "    countSum = Series(P3s[1][pair]).sum()\n",
    "    pwm3[pair] = countSum/len(seqs)\n",
    "    \n",
    "#Compute the alternate (order 3 model)\n",
    "LL_Ha = 0.0\n",
    "for seq in seqs:\n",
    "    LL_Ha += log(pwm3[seq[0:3]])\n",
    "    for pos in range(0,6):\n",
    "        LL_Ha += log(transMat3[pos+1][seq[pos:pos+3]][seq[pos+3]])\n",
    "print(\"LL_Ha\",LL_Ha) \n",
    "lmbda = 2*(LL_Ha-LL_Ho)\n",
    "print(lmbda)\n",
    "df = (64*4*5+16*4 - (4*6)+16) -  (64*7+16 - (4*7)+4)\n",
    "chi2.pdf(lmbda,df)\n",
    "\n",
    "# Do an order 4 mc instead of order 3\n",
    "\n",
    "P4s = {}\n",
    "#Initialize the Ps matrix\n",
    "for pos in range(1,9):\n",
    "    P4s[pos]={}\n",
    "    for firstBase,secondBase,thirdBase,fourthBase,fifthBase in cartProduct(['A','C','G','T'],['A','C','G','T'],['A','C','G','T'],['A','C','G','T'],['A','C','G','T']):\n",
    "        try: P4s[pos][firstBase+secondBase+thirdBase+fourthBase][fifthBase] = 0\n",
    "        except: P4s[pos][firstBase+secondBase+thirdBase+fourthBase] = {fifthBase:0}\n",
    "\n",
    "#Count the number of times each base is found together\n",
    "for seq in seqs:\n",
    "    for pos in range(0,5): P4s[pos+1][seq[pos:pos+4]][seq[pos+4]]+=1\n",
    "\n",
    "#Compute the transition matrix        \n",
    "transMat4 = {}\n",
    "for pos in range(1,9):\n",
    "    transMat4[pos] = {}\n",
    "    for firstBase,secondBase,thirdBase,fourthBase,fifthBase in cartProduct(['A','C','G','T'],['A','C','G','T'],['A','C','G','T'],['A','C','G','T'],['A','C','G','T']):\n",
    "        rc_total = Series(P4s[pos][firstBase+secondBase+thirdBase+fourthBase]).sum()\n",
    "        if rc_total == 0.0:\n",
    "            try:transMat4[pos][firstBase+secondBase+thirdBase+fourthBase][fifthBase] = 0.0\n",
    "            except: transMat4[pos][firstBase+secondBase+thirdBase+fourthBase] = {fifthBase: 0.0}\n",
    "            continue\n",
    "        try: transMat4[pos][firstBase+secondBase+thirdBase+fourthBase][fifthBase] = P4s[pos][firstBase+secondBase+thirdBase+fourthBase][fifthBase]/rc_total\n",
    "        except: transMat4[pos][firstBase+secondBase+thirdBase+fourthBase] = {fifthBase: P4s[pos][firstBase+secondBase+thirdBase+fourthBase][fifthBase]/rc_total}\n",
    "\n",
    "#Compute the null (order 2 model)\n",
    "LL_Ho = 0.0\n",
    "for seq in seqs:\n",
    "    LL_Ho += log(pwm3[seq[0:3]])\n",
    "    for pos in range(0,6):\n",
    "        LL_Ho += log(transMat3[pos+1][seq[pos:pos+3]][seq[pos+3]])\n",
    "print(\"LL_Ho\",LL_Ho)      \n",
    "\n",
    "#Compute the alphas for order 3\n",
    "pwm4 = {}\n",
    "for pair in transMat4[1]:\n",
    "    countSum = Series(P4s[1][pair]).sum()\n",
    "    pwm4[pair] = countSum/len(seqs)\n",
    "    \n",
    "#Compute the alternate (order 3 model)\n",
    "LL_Ha = 0.0\n",
    "for seq in seqs:\n",
    "    LL_Ha += log(pwm4[seq[0:4]])\n",
    "    for pos in range(0,5):\n",
    "        LL_Ha += log(transMat4[pos+1][seq[pos:pos+4]][seq[pos+4]])\n",
    "print(\"LL_Ha\",LL_Ha) \n",
    "lmbda = 2*(LL_Ha-LL_Ho)\n",
    "print(lmbda)\n",
    "df = (64*4*4*4+16*4*4 - (4*5)+16) -  (64*7+16 - (4*7)+4)\n",
    "chi2.pdf(lmbda,df)\n",
    "\n",
    "# Do an order 5 mc instead of order 4\n",
    "\n",
    "P5s = {}\n",
    "#Initialize the Ps matrix\n",
    "for pos in range(1,9):\n",
    "    P5s[pos]={}\n",
    "    for firstBase,secondBase,thirdBase,fourthBase,fifthBase,sixthBase in cartProduct(['A','C','G','T'],['A','C','G','T'],['A','C','G','T'],['A','C','G','T'],['A','C','G','T'],['A','C','G','T']):\n",
    "        try: P5s[pos][firstBase+secondBase+thirdBase+fourthBase+fifthBase][sixthBase] = 0\n",
    "        except: P5s[pos][firstBase+secondBase+thirdBase+fourthBase+fifthBase] = {sixthBase:0}\n",
    "\n",
    "#Count the number of times each base is found together\n",
    "for seq in seqs:\n",
    "    for pos in range(0,4): P5s[pos+1][seq[pos:pos+5]][seq[pos+5]]+=1\n",
    "\n",
    "#Compute the transition matrix        \n",
    "transMat5 = {}\n",
    "for pos in range(1,9):\n",
    "    transMat5[pos] = {}\n",
    "    for firstBase,secondBase,thirdBase,fourthBase,fifthBase,sixthBase in cartProduct(['A','C','G','T'],['A','C','G','T'],['A','C','G','T'],['A','C','G','T'],['A','C','G','T'],['A','C','G','T']):\n",
    "        rc_total = Series(P5s[pos][firstBase+secondBase+thirdBase+fourthBase+fifthBase]).sum()\n",
    "        if rc_total == 0.0:\n",
    "            try:transMat5[pos][firstBase+secondBase+thirdBase+fourthBase+fifthBase][sixthBase] = 0.0\n",
    "            except: transMat5[pos][firstBase+secondBase+thirdBase+fourthBase+fifthBase] = {sixthBase: 0.0}\n",
    "            continue\n",
    "        try: transMat5[pos][firstBase+secondBase+thirdBase+fourthBase+fifthBase][sixthBase] = P5s[pos][firstBase+secondBase+thirdBase+fourthBase+fifthBase][sixthBase]/rc_total\n",
    "        except: transMat5[pos][firstBase+secondBase+thirdBase+fourthBase+fifthBase] = {sixthBase: P5s[pos][firstBase+secondBase+thirdBase+fourthBase+fifthBase][sixthBase]/rc_total}\n",
    "\n",
    "#Compute the null (order 4 model)\n",
    "LL_Ho = 0.0\n",
    "for seq in seqs:\n",
    "    LL_Ho += log(pwm4[seq[0:4]])\n",
    "    for pos in range(0,5):\n",
    "        LL_Ho += log(transMat4[pos+1][seq[pos:pos+4]][seq[pos+4]])\n",
    "print(\"LL_Ho\",LL_Ho)      \n",
    "\n",
    "#Compute the alphas for order 5\n",
    "pwm5 = {}\n",
    "for pair in transMat5[1]:\n",
    "    countSum = Series(P5s[1][pair]).sum()\n",
    "    pwm5[pair] = countSum/len(seqs)\n",
    "    \n",
    "#Compute the alternate (order 3 model)\n",
    "LL_Ha = 0.0\n",
    "for seq in seqs:\n",
    "    LL_Ha += log(pwm5[seq[0:5]])\n",
    "    for pos in range(0,4):\n",
    "        LL_Ha += log(transMat5[pos+1][seq[pos:pos+5]][seq[pos+5]])\n",
    "print(\"LL_Ha\",LL_Ha) \n",
    "lmbda = 2*(LL_Ha-LL_Ho)\n",
    "print(lmbda)\n",
    "df = (64*4*4*4+16*4*4 - (4*5)+16) -  (64*7+16 - (4*7)+4)\n",
    "chi2.pdf(lmbda,df)"
   ]
  }
 ],
 "metadata": {
  "kernelspec": {
   "display_name": "Python 3",
   "language": "python",
   "name": "python3"
  },
  "language_info": {
   "codemirror_mode": {
    "name": "ipython",
    "version": 3
   },
   "file_extension": ".py",
   "mimetype": "text/x-python",
   "name": "python",
   "nbconvert_exporter": "python",
   "pygments_lexer": "ipython3",
   "version": "3.6.7"
  }
 },
 "nbformat": 4,
 "nbformat_minor": 2
}
